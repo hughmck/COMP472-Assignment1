{
  "nbformat": 4,
  "nbformat_minor": 0,
  "metadata": {
    "colab": {
      "provenance": [],
      "authorship_tag": "ABX9TyN/GWL2XyMWcs73COrxKOku",
      "include_colab_link": true
    },
    "kernelspec": {
      "name": "python3",
      "display_name": "Python 3"
    },
    "language_info": {
      "name": "python"
    }
  },
  "cells": [
    {
      "cell_type": "markdown",
      "metadata": {
        "id": "view-in-github",
        "colab_type": "text"
      },
      "source": [
        "<a href=\"https://colab.research.google.com/github/hughmck/COMP472-Assignment1/blob/main/472A1.ipynb\" target=\"_parent\"><img src=\"https://colab.research.google.com/assets/colab-badge.svg\" alt=\"Open In Colab\"/></a>"
      ]
    },
    {
      "cell_type": "markdown",
      "source": [
        "# Comp 472 Assignment 1\n"
      ],
      "metadata": {
        "id": "IZxHNzK7zj8I"
      }
    },
    {
      "cell_type": "markdown",
      "source": [
        "# Process\n",
        "Step 1 : Dataset Preparation & Analysis  \n",
        "* 1.1 : Preprocessing  \n",
        "* 1.2 : Extraction and plotting    \n",
        "\n",
        "Step 2 : Words as Features   \n",
        "Step 3 : Embeddings as Features\n",
        "Step 4 : Analysis"
      ],
      "metadata": {
        "id": "ykF9MsLOzp-x"
      }
    },
    {
      "cell_type": "markdown",
      "source": [
        "## Step 1.1 : Preprocessing"
      ],
      "metadata": {
        "id": "Wh5juQg3zv6K"
      }
    },
    {
      "cell_type": "code",
      "execution_count": 1,
      "metadata": {
        "id": "h9meKkMdyuJP"
      },
      "outputs": [],
      "source": [
        "# Imports\n",
        "import pandas as pd\n",
        "import numpy as np\n",
        "import json\n",
        "import matplotlib.pyplot as plt\n",
        "from sklearn.feature_extraction.text import CountVectorizer"
      ]
    },
    {
      "cell_type": "code",
      "source": [
        "df = pd.read_json(\"goemotions.json\")\n",
        "df.columns = ['text','emotion','sentiment']\n",
        "size=df.shape[0]"
      ],
      "metadata": {
        "id": "X_xg7Pwh3mow"
      },
      "execution_count": 3,
      "outputs": []
    },
    {
      "cell_type": "code",
      "source": [
        "emotion = df['emotion']\n",
        "display(emotion)\n",
        "sentiment = df['sentiment']\n",
        "display(sentiment)"
      ],
      "metadata": {
        "id": "g8gJR7xa822C",
        "colab": {
          "base_uri": "https://localhost:8080/",
          "height": 446
        },
        "outputId": "91a9b6e3-8d4e-4d5c-c6ee-260f1b3d90ad"
      },
      "execution_count": 4,
      "outputs": [
        {
          "output_type": "display_data",
          "data": {
            "text/plain": [
              "0            sadness\n",
              "1            neutral\n",
              "2               love\n",
              "3            neutral\n",
              "4          gratitude\n",
              "             ...    \n",
              "171815           joy\n",
              "171816          love\n",
              "171817        caring\n",
              "171818    admiration\n",
              "171819         anger\n",
              "Name: emotion, Length: 171820, dtype: object"
            ]
          },
          "metadata": {}
        },
        {
          "output_type": "display_data",
          "data": {
            "text/plain": [
              "0         negative\n",
              "1          neutral\n",
              "2         positive\n",
              "3          neutral\n",
              "4         positive\n",
              "            ...   \n",
              "171815    positive\n",
              "171816    positive\n",
              "171817    positive\n",
              "171818    positive\n",
              "171819    negative\n",
              "Name: sentiment, Length: 171820, dtype: object"
            ]
          },
          "metadata": {}
        }
      ]
    },
    {
      "cell_type": "markdown",
      "source": [
        "### Step 1.2 : Extraction and plotting"
      ],
      "metadata": {
        "id": "yAbHlreLssDj"
      }
    },
    {
      "cell_type": "code",
      "source": [
        "# Distributions of sentiments\n",
        "positive = df.loc[df['sentiment'] == 'positive']\n",
        "neutral = df.loc[df['sentiment'] == 'neutral']\n",
        "ambiguous = df.loc[df['sentiment'] == 'ambiguous']\n",
        "negative = df.loc[df['sentiment'] == 'negative']\n",
        "\n",
        "# percentage of each sentiment\n",
        "p = (positive.shape[0])/size\n",
        "n = (neutral.shape[0])/size\n",
        "neg = (negative.shape[0])/size\n",
        "a = (ambiguous.shape[0])/size\n",
        "\n",
        "# printing the number of posts in each sentiment category\n",
        "print(f'positive count: {positive.shape[0]}') \n",
        "print(f'neutral count: {neutral.shape[0]}')\n",
        "print(f'ambiguous count: {ambiguous.shape[0]}')\n",
        "print(f'negative count: {negative.shape[0]}')\n",
        "\n",
        "\n",
        "#Distributions of emotions\n",
        "emotions_lst = df['emotion'].value_counts().to_dict()\n",
        "emotions_lst\n"
      ],
      "metadata": {
        "colab": {
          "base_uri": "https://localhost:8080/"
        },
        "id": "QN2zghTszVDH",
        "outputId": "6a7e9251-c75b-4624-ff6f-2c1ad97a9604"
      },
      "execution_count": 17,
      "outputs": [
        {
          "output_type": "stream",
          "name": "stdout",
          "text": [
            "positive count: 58968\n",
            "neutral count: 55298\n",
            "ambiguous count: 19009\n",
            "negative count: 38545\n"
          ]
        },
        {
          "output_type": "execute_result",
          "data": {
            "text/plain": [
              "{'neutral': 55298,\n",
              " 'approval': 11259,\n",
              " 'admiration': 10531,\n",
              " 'annoyance': 8342,\n",
              " 'disapproval': 7686,\n",
              " 'gratitude': 7075,\n",
              " 'amusement': 6130,\n",
              " 'curiosity': 5885,\n",
              " 'anger': 5202,\n",
              " 'love': 4957,\n",
              " 'confusion': 4938,\n",
              " 'realization': 4714,\n",
              " 'disappointment': 4706,\n",
              " 'optimism': 4519,\n",
              " 'joy': 4329,\n",
              " 'sadness': 3827,\n",
              " 'caring': 3523,\n",
              " 'surprise': 3472,\n",
              " 'excitement': 3020,\n",
              " 'disgust': 2914,\n",
              " 'desire': 2147,\n",
              " 'fear': 1778,\n",
              " 'remorse': 1510,\n",
              " 'embarrassment': 1433,\n",
              " 'nervousness': 796,\n",
              " 'relief': 788,\n",
              " 'pride': 690,\n",
              " 'grief': 351}"
            ]
          },
          "metadata": {},
          "execution_count": 17
        }
      ]
    },
    {
      "cell_type": "code",
      "source": [
        "# Sentiment Pie Chart\n",
        "sentimentChart = np.array([p,n,neg,a]) # setting the sentiment pie chart\n",
        "sentimentChartLabels = [\"positive\", \"neutral\", \"negative\", \"ambiguous\"]\n",
        "\n",
        "plt.pie(sentimentChart, labels = sentimentChartLabels)\n",
        "plt.axis('equal')\n",
        "plt.savefig('sentiment_piechart.png', dpi = 300)\n",
        "plt.show()"
      ],
      "metadata": {
        "id": "Cr2KyHzm78lf",
        "colab": {
          "base_uri": "https://localhost:8080/",
          "height": 249
        },
        "outputId": "b6b52b6b-f51d-4bfc-bdb2-3aec8b922d91"
      },
      "execution_count": 18,
      "outputs": [
        {
          "output_type": "display_data",
          "data": {
            "text/plain": [
              "<Figure size 432x288 with 1 Axes>"
            ],
            "image/png": "[encoded data removed]"
          },
          "metadata": {}
        }
      ]
    },
    {
      "cell_type": "code",
      "source": [
        "# Emotions Pie Chart\n",
        "labels = []\n",
        "sizes = []\n",
        "\n",
        "for x, y in emotions_lst.items():\n",
        "    labels.append(x)\n",
        "    sizes.append(y)\n",
        "\n",
        "# Plot\n",
        "plt.pie(sizes, labels=labels)\n",
        "plt.axis('equal')\n",
        "plt.savefig('emotions_piechart.png', dpi = 300)\n",
        "plt.show()"
      ],
      "metadata": {
        "colab": {
          "base_uri": "https://localhost:8080/",
          "height": 253
        },
        "id": "dLg0ISh0q5q3",
        "outputId": "0ac5464e-cfc8-479e-aec5-b3ca4aecbf16"
      },
      "execution_count": 19,
      "outputs": [
        {
          "output_type": "display_data",
          "data": {
            "text/plain": [
              "<Figure size 432x288 with 1 Axes>"
            ],
            "image/png": "[encoded data removed]"
          },
          "metadata": {}
        }
      ]
    },
    {
      "cell_type": "markdown",
      "source": [
        "## Step 2.1 : Words as Features   \n"
      ],
      "metadata": {
        "id": "DiUDug9Ws5_u"
      }
    },
    {
      "cell_type": "code",
      "source": [],
      "metadata": {
        "id": "mf82vI6UrdKs"
      },
      "execution_count": null,
      "outputs": []
    }
  ]
}