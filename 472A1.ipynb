{
  "cells": [
    {
      "cell_type": "markdown",
      "metadata": {
        "id": "view-in-github",
        "colab_type": "text"
      },
      "source": [
        "<a href=\"https://colab.research.google.com/github/hughmck/COMP472-Assignment1/blob/main/472A1.ipynb\" target=\"_parent\"><img src=\"https://colab.research.google.com/assets/colab-badge.svg\" alt=\"Open In Colab\"/></a>"
      ]
    },
    {
      "cell_type": "markdown",
      "metadata": {
        "id": "IZxHNzK7zj8I"
      },
      "source": [
        "# Comp 472 Assignment 1\n"
      ]
    },
    {
      "cell_type": "markdown",
      "metadata": {
        "id": "ykF9MsLOzp-x"
      },
      "source": [
        "# Process\n",
        "Step 1 : Dataset Preparation & Analysis  \n",
        "* 1.1 : Preprocessing  \n",
        "* 1.2 : Extraction and plotting    \n",
        "\n",
        "Step 2 : Words as Features   \n",
        "\n",
        "* 2.1 : Size of Vocabulary\n",
        "* 2.2 : Training ang Testing Splits\n",
        "* 2.3 : Train and Test Classifiers\n",
        "* 2.4 : Performance of Classifiers\n",
        "\n",
        "Step 3 : Embeddings as Features\n",
        "Step 4 : Analysis"
      ]
    },
    {
      "cell_type": "markdown",
      "metadata": {
        "id": "Wh5juQg3zv6K"
      },
      "source": [
        "## Step 1.1 : Preprocessing"
      ]
    },
    {
      "cell_type": "code",
      "execution_count": null,
      "metadata": {
        "id": "h9meKkMdyuJP"
      },
      "outputs": [],
      "source": [
        "# Imports\n",
        "import pandas as pd\n",
        "import numpy as np\n",
        "import json\n",
        "import io\n",
        "from google.colab import files\n",
        "import matplotlib.pyplot as plt\n",
        "from sklearn.feature_extraction.text import CountVectorizer\n",
        "from sklearn.model_selection import train_test_split \n",
        "from sklearn.naive_bayes import MultinomialNB\n",
        "from sklearn.tree import DecisionTreeClassifier\n",
        "from sklearn.neural_network import MLPClassifier\n",
        "from sklearn.datasets import make_classification\n",
        "\n",
        "from sklearn.metrics import classification_report\n",
        "from sklearn.metrics import confusion_matrix\n",
        "from sklearn.tree import DecisionTreeClassifier\n",
        "from sklearn.model_selection import GridSearchCV\n",
        "from sklearn import metrics\n"
      ]
    },
    {
      "cell_type": "code",
      "execution_count": null,
      "metadata": {
        "colab": {
          "background_save": true,
          "base_uri": "https://localhost:8080/",
          "height": 38
        },
        "id": "X_xg7Pwh3mow",
        "outputId": "e8e908ce-5ed7-45d4-9a5c-5c3e5cd72354"
      },
      "outputs": [
        {
          "data": {
            "text/html": [
              "\n",
              "     <input type=\"file\" id=\"files-dfffa894-6b7d-4fe7-aea8-369fdc961bed\" name=\"files[]\" multiple disabled\n",
              "        style=\"border:none\" />\n",
              "     <output id=\"result-dfffa894-6b7d-4fe7-aea8-369fdc961bed\">\n",
              "      Upload widget is only available when the cell has been executed in the\n",
              "      current browser session. Please rerun this cell to enable.\n",
              "      </output>\n",
              "      <script>// Copyright 2017 Google LLC\n",
              "//\n",
              "// Licensed under the Apache License, Version 2.0 (the \"License\");\n",
              "// you may not use this file except in compliance with the License.\n",
              "// You may obtain a copy of the License at\n",
              "//\n",
              "//      http://www.apache.org/licenses/LICENSE-2.0\n",
              "//\n",
              "// Unless required by applicable law or agreed to in writing, software\n",
              "// distributed under the License is distributed on an \"AS IS\" BASIS,\n",
              "// WITHOUT WARRANTIES OR CONDITIONS OF ANY KIND, either express or implied.\n",
              "// See the License for the specific language governing permissions and\n",
              "// limitations under the License.\n",
              "\n",
              "/**\n",
              " * @fileoverview Helpers for google.colab Python module.\n",
              " */\n",
              "(function(scope) {\n",
              "function span(text, styleAttributes = {}) {\n",
              "  const element = document.createElement('span');\n",
              "  element.textContent = text;\n",
              "  for (const key of Object.keys(styleAttributes)) {\n",
              "    element.style[key] = styleAttributes[key];\n",
              "  }\n",
              "  return element;\n",
              "}\n",
              "\n",
              "// Max number of bytes which will be uploaded at a time.\n",
              "const MAX_PAYLOAD_SIZE = 100 * 1024;\n",
              "\n",
              "function _uploadFiles(inputId, outputId) {\n",
              "  const steps = uploadFilesStep(inputId, outputId);\n",
              "  const outputElement = document.getElementById(outputId);\n",
              "  // Cache steps on the outputElement to make it available for the next call\n",
              "  // to uploadFilesContinue from Python.\n",
              "  outputElement.steps = steps;\n",
              "\n",
              "  return _uploadFilesContinue(outputId);\n",
              "}\n",
              "\n",
              "// This is roughly an async generator (not supported in the browser yet),\n",
              "// where there are multiple asynchronous steps and the Python side is going\n",
              "// to poll for completion of each step.\n",
              "// This uses a Promise to block the python side on completion of each step,\n",
              "// then passes the result of the previous step as the input to the next step.\n",
              "function _uploadFilesContinue(outputId) {\n",
              "  const outputElement = document.getElementById(outputId);\n",
              "  const steps = outputElement.steps;\n",
              "\n",
              "  const next = steps.next(outputElement.lastPromiseValue);\n",
              "  return Promise.resolve(next.value.promise).then((value) => {\n",
              "    // Cache the last promise value to make it available to the next\n",
              "    // step of the generator.\n",
              "    outputElement.lastPromiseValue = value;\n",
              "    return next.value.response;\n",
              "  });\n",
              "}\n",
              "\n",
              "/**\n",
              " * Generator function which is called between each async step of the upload\n",
              " * process.\n",
              " * @param {string} inputId Element ID of the input file picker element.\n",
              " * @param {string} outputId Element ID of the output display.\n",
              " * @return {!Iterable<!Object>} Iterable of next steps.\n",
              " */\n",
              "function* uploadFilesStep(inputId, outputId) {\n",
              "  const inputElement = document.getElementById(inputId);\n",
              "  inputElement.disabled = false;\n",
              "\n",
              "  const outputElement = document.getElementById(outputId);\n",
              "  outputElement.innerHTML = '';\n",
              "\n",
              "  const pickedPromise = new Promise((resolve) => {\n",
              "    inputElement.addEventListener('change', (e) => {\n",
              "      resolve(e.target.files);\n",
              "    });\n",
              "  });\n",
              "\n",
              "  const cancel = document.createElement('button');\n",
              "  inputElement.parentElement.appendChild(cancel);\n",
              "  cancel.textContent = 'Cancel upload';\n",
              "  const cancelPromise = new Promise((resolve) => {\n",
              "    cancel.onclick = () => {\n",
              "      resolve(null);\n",
              "    };\n",
              "  });\n",
              "\n",
              "  // Wait for the user to pick the files.\n",
              "  const files = yield {\n",
              "    promise: Promise.race([pickedPromise, cancelPromise]),\n",
              "    response: {\n",
              "      action: 'starting',\n",
              "    }\n",
              "  };\n",
              "\n",
              "  cancel.remove();\n",
              "\n",
              "  // Disable the input element since further picks are not allowed.\n",
              "  inputElement.disabled = true;\n",
              "\n",
              "  if (!files) {\n",
              "    return {\n",
              "      response: {\n",
              "        action: 'complete',\n",
              "      }\n",
              "    };\n",
              "  }\n",
              "\n",
              "  for (const file of files) {\n",
              "    const li = document.createElement('li');\n",
              "    li.append(span(file.name, {fontWeight: 'bold'}));\n",
              "    li.append(span(\n",
              "        `(${file.type || 'n/a'}) - ${file.size} bytes, ` +\n",
              "        `last modified: ${\n",
              "            file.lastModifiedDate ? file.lastModifiedDate.toLocaleDateString() :\n",
              "                                    'n/a'} - `));\n",
              "    const percent = span('0% done');\n",
              "    li.appendChild(percent);\n",
              "\n",
              "    outputElement.appendChild(li);\n",
              "\n",
              "    const fileDataPromise = new Promise((resolve) => {\n",
              "      const reader = new FileReader();\n",
              "      reader.onload = (e) => {\n",
              "        resolve(e.target.result);\n",
              "      };\n",
              "      reader.readAsArrayBuffer(file);\n",
              "    });\n",
              "    // Wait for the data to be ready.\n",
              "    let fileData = yield {\n",
              "      promise: fileDataPromise,\n",
              "      response: {\n",
              "        action: 'continue',\n",
              "      }\n",
              "    };\n",
              "\n",
              "    // Use a chunked sending to avoid message size limits. See b/62115660.\n",
              "    let position = 0;\n",
              "    do {\n",
              "      const length = Math.min(fileData.byteLength - position, MAX_PAYLOAD_SIZE);\n",
              "      const chunk = new Uint8Array(fileData, position, length);\n",
              "      position += length;\n",
              "\n",
              "      const base64 = btoa(String.fromCharCode.apply(null, chunk));\n",
              "      yield {\n",
              "        response: {\n",
              "          action: 'append',\n",
              "          file: file.name,\n",
              "          data: base64,\n",
              "        },\n",
              "      };\n",
              "\n",
              "      let percentDone = fileData.byteLength === 0 ?\n",
              "          100 :\n",
              "          Math.round((position / fileData.byteLength) * 100);\n",
              "      percent.textContent = `${percentDone}% done`;\n",
              "\n",
              "    } while (position < fileData.byteLength);\n",
              "  }\n",
              "\n",
              "  // All done.\n",
              "  yield {\n",
              "    response: {\n",
              "      action: 'complete',\n",
              "    }\n",
              "  };\n",
              "}\n",
              "\n",
              "scope.google = scope.google || {};\n",
              "scope.google.colab = scope.google.colab || {};\n",
              "scope.google.colab._files = {\n",
              "  _uploadFiles,\n",
              "  _uploadFilesContinue,\n",
              "};\n",
              "})(self);\n",
              "</script> "
            ],
            "text/plain": [
              "<IPython.core.display.HTML object>"
            ]
          },
          "metadata": {},
          "output_type": "display_data"
        }
      ],
      "source": [
        "uploaded = files.upload()\n",
        "df = pd.read_json(io.StringIO(uploaded.get('goemotions.json').decode('utf-8')))\n",
        "#df = pd.read_json(\"goemotions.json\")\n",
        "df.columns = ['text','emotion','sentiment']\n",
        "emotion = df['emotion']\n",
        "sentiment = df['sentiment']\n",
        "text = df['text']\n",
        "size = df.shape[0]\n",
        "df.head()"
      ]
    },
    {
      "cell_type": "markdown",
      "metadata": {
        "id": "yAbHlreLssDj"
      },
      "source": [
        "### Step 1.2 : Extraction and plotting"
      ]
    },
    {
      "cell_type": "code",
      "execution_count": null,
      "metadata": {
        "colab": {
          "base_uri": "https://localhost:8080/"
        },
        "id": "QN2zghTszVDH",
        "outputId": "ac185fbb-8eca-4d04-e211-6eef859f0d6f"
      },
      "outputs": [
        {
          "name": "stdout",
          "output_type": "stream",
          "text": [
            "positive count: 58968\n",
            "neutral count: 55298\n",
            "ambiguous count: 19009\n",
            "negative count: 38545\n"
          ]
        },
        {
          "data": {
            "text/plain": [
              "{'neutral': 55298,\n",
              " 'approval': 11259,\n",
              " 'admiration': 10531,\n",
              " 'annoyance': 8342,\n",
              " 'disapproval': 7686,\n",
              " 'gratitude': 7075,\n",
              " 'amusement': 6130,\n",
              " 'curiosity': 5885,\n",
              " 'anger': 5202,\n",
              " 'love': 4957,\n",
              " 'confusion': 4938,\n",
              " 'realization': 4714,\n",
              " 'disappointment': 4706,\n",
              " 'optimism': 4519,\n",
              " 'joy': 4329,\n",
              " 'sadness': 3827,\n",
              " 'caring': 3523,\n",
              " 'surprise': 3472,\n",
              " 'excitement': 3020,\n",
              " 'disgust': 2914,\n",
              " 'desire': 2147,\n",
              " 'fear': 1778,\n",
              " 'remorse': 1510,\n",
              " 'embarrassment': 1433,\n",
              " 'nervousness': 796,\n",
              " 'relief': 788,\n",
              " 'pride': 690,\n",
              " 'grief': 351}"
            ]
          },
          "execution_count": 19,
          "metadata": {},
          "output_type": "execute_result"
        }
      ],
      "source": [
        "# Distributions of sentiments\n",
        "positive = df.loc[sentiment == 'positive']\n",
        "neutral = df.loc[sentiment == 'neutral']\n",
        "ambiguous = df.loc[sentiment == 'ambiguous']\n",
        "negative = df.loc[sentiment == 'negative']\n",
        "\n",
        "# percentage of each sentiment\n",
        "p = (positive.shape[0])/size\n",
        "n = (neutral.shape[0])/size\n",
        "neg = (negative.shape[0])/size\n",
        "a = (ambiguous.shape[0])/size\n",
        "\n",
        "# printing the number of posts in each sentiment category\n",
        "print(f'positive count: {positive.shape[0]}') \n",
        "print(f'neutral count: {neutral.shape[0]}')\n",
        "print(f'ambiguous count: {ambiguous.shape[0]}')\n",
        "print(f'negative count: {negative.shape[0]}')\n",
        "\n",
        "\n",
        "#Distributions of emotions\n",
        "emotions_lst = df['emotion'].value_counts().to_dict()\n",
        "emotions_lst\n"
      ]
    },
    {
      "cell_type": "code",
      "execution_count": null,
      "metadata": {
        "colab": {
          "base_uri": "https://localhost:8080/",
          "height": 249
        },
        "id": "Cr2KyHzm78lf",
        "outputId": "f59d404f-62eb-4606-dbe6-adf2d59c9f46"
      },
      "outputs": [
        {
          "data": {
            "image/png": "[encoded data removed]",
            "text/plain": [
              "<Figure size 432x288 with 1 Axes>"
            ]
          },
          "metadata": {},
          "output_type": "display_data"
        }
      ],
      "source": [
        "# Sentiment Pie Chart\n",
        "sentimentChart = np.array([p,n,neg,a]) # setting the sentiment pie chart\n",
        "sentimentChartLabels = [\"positive\", \"neutral\", \"negative\", \"ambiguous\"]\n",
        "\n",
        "plt.pie(sentimentChart, labels = sentimentChartLabels)\n",
        "plt.axis('equal')\n",
        "plt.savefig('sentiment_piechart.png', dpi = 300)\n",
        "plt.show()"
      ]
    },
    {
      "cell_type": "code",
      "execution_count": null,
      "metadata": {
        "colab": {
          "base_uri": "https://localhost:8080/",
          "height": 253
        },
        "id": "dLg0ISh0q5q3",
        "outputId": "317a87c7-382a-41d2-c1cd-6d80fa4008ca"
      },
      "outputs": [
        {
          "data": {
            "image/png": "[encoded data removed]",
            "text/plain": [
              "<Figure size 432x288 with 1 Axes>"
            ]
          },
          "metadata": {},
          "output_type": "display_data"
        }
      ],
      "source": [
        "# Emotions Pie Chart\n",
        "labels = []\n",
        "sizes = []\n",
        "\n",
        "for x, y in emotions_lst.items():\n",
        "    labels.append(x)\n",
        "    sizes.append(y)\n",
        "\n",
        "# Plot\n",
        "plt.pie(sizes, labels=labels)\n",
        "plt.axis('equal')\n",
        "plt.savefig('emotions_piechart.png', dpi = 300)\n",
        "plt.show()"
      ]
    },
    {
      "cell_type": "markdown",
      "metadata": {
        "id": "DiUDug9Ws5_u"
      },
      "source": [
        "## Step 2.1 : Size of Vocabulary  \n"
      ]
    },
    {
      "cell_type": "code",
      "execution_count": null,
      "metadata": {
        "colab": {
          "base_uri": "https://localhost:8080/"
        },
        "id": "mf82vI6UrdKs",
        "outputId": "851ae72f-b01a-48a7-b3e6-b7b7c746116d"
      },
      "outputs": [
        {
          "name": "stdout",
          "output_type": "stream",
          "text": [
            "Size of vocabulary is : 30148\n"
          ]
        }
      ],
      "source": [
        "# Size of vocabulary\n",
        "cv = CountVectorizer(stop_words='english', decode_error='ignore')   \n",
        "X = cv.fit_transform(text)\n",
        "vocab_size = cv.get_feature_names_out().shape[0]\n",
        "print(f'Size of vocabulary is : {vocab_size}')"
      ]
    },
    {
      "cell_type": "markdown",
      "metadata": {
        "id": "-Ouau7NSxaVy"
      },
      "source": [
        "## Step 2.2 : Training and Testing Splits"
      ]
    },
    {
      "cell_type": "code",
      "execution_count": null,
      "metadata": {
        "id": "L571ffqDxgxK"
      },
      "outputs": [],
      "source": [
        "#ASK training and testing for each emotion and sentiment or together\n",
        "# ie. what are the X cols and what are the y cols\n",
        "\n",
        "# X,y = df[],df[]\n",
        "# X_train, X_test, y_train, y_test = train_test_split(X, y, test_size=0.2)\n",
        "\n",
        "X = cv.fit_transform(df.text)\n",
        "#I'm sure there is a faster way to do for both, by my method is just creating 2 objects for both\n",
        "#for emotion classification \n",
        "X_train, X_test, y_train, y_test = train_test_split(X, df.emotion, test_size=0.2)\n",
        "\n",
        "#for sentiment classification \n",
        "A_train, A_test, B_train, B_test = train_test_split(X, df.sentiment, test_size=0.2)\n"
      ]
    },
    {
      "cell_type": "markdown",
      "metadata": {
        "id": "Cl4kkaXHzMlN"
      },
      "source": [
        "## Step 2.3 : Train and Test Classifiers with a 80-20 Train-test split\n"
      ]
    },
    {
      "cell_type": "code",
      "execution_count": null,
      "metadata": {
        "colab": {
          "base_uri": "https://localhost:8080/"
        },
        "id": "2MS-_9XP0cVh",
        "outputId": "76e5c1fa-43c8-454c-b4fa-a3f508d9b8d4"
      },
      "outputs": [
        {
          "name": "stdout",
          "output_type": "stream",
          "text": [
            "\n",
            "\n",
            "\t\t-------------- 2.3.1 Multinomial Naive Bayes Classifier with Default Parameter-------------\n",
            "\n",
            "\n",
            " Confusion Matrix for the Emotions: \n",
            "[[ 879   16    1   10   41    2    1    6    0    2    5    1    0    4\n",
            "     1   54    0   15   42    0  965   12    0    1    0    0    1    9]\n",
            " [  49  379    1   19    7    1    0    0    0    2    6    0    1    3\n",
            "     1    8    0    9    8    0  719    1    0    3    0    0    0    4]\n",
            " [  12   13  140   51   10    1    2    4    0    5   21    7    0    2\n",
            "     1    6    0    1    1    0  741    0    0    2    0    1    4    3]\n",
            " [  35   23   61  120   33    2    8    5    1   11   41    9    1    4\n",
            "     2    9    0    3    0    1 1323    5    0   11    0    0    8    6]\n",
            " [  81   18    7   24  205    6    3   12    3    2   19    3    0    0\n",
            "     3   22    0    8   26    0 1796   21    0   11    0    0    6    5]\n",
            " [  14    3    3    3   13   39    1    0    1    2    8    0    1    1\n",
            "     2   11    0    7    8    0  591   22    0    2    0    2    6    2]\n",
            " [   9   10    3    8   20    1   57   18    0    1   13    3    0    2\n",
            "     0    6    0    0    3    0  817    3    0    3    0    0    1    2]\n",
            " [  21    8    4   10   18    4   14  111    2    0    8    0    0    4\n",
            "     1    8    0    1    3    0  959    2    0    1    0    2    3    6]\n",
            " [   8    5    1    3    5    1    1    1   15    1    1    1    0    1\n",
            "     0    4    0    5    9    0  300   23    0    0    0    0    0    2]\n",
            " [  23    8    9   17   19    4    3    3    1   40   11    6    1    1\n",
            "     2   11    0    2    0    0  793    6    0    2    0    0   12    4]\n",
            " [  23   19   11   36   37    3    8    6    0    6   85    8    0    1\n",
            "     2   13    0    7    6    0 1275    3    0    3    0    0    2    3]\n",
            " [   3    2   17   38    8    0    3    1    0    5    5   48    0    1\n",
            "     4    1    0    0    2    0  429    3    0    2    0    1    5    4]\n",
            " [   4    3    1   12    3    0    2    1    0    3    5    4    8    1\n",
            "     0    2    0    0    3    0  233    0    0    4    0    0    1    0]\n",
            " [  66    9    6    2   11    1    0    5    0    1    1    1    0   25\n",
            "     1   11    0   29   12    0  413    2    0    1    0    0    1   12]\n",
            " [   7    5    4    6    5    3    1    3    0    2    3    2    0    1\n",
            "    22    2    0    0    0    0  283    2    0    2    0    0    5    2]\n",
            " [  92    7    0    2    5    5    0    0    0    1    1    0    0    0\n",
            "     0 1001    0   20    2    0  309   11    0    3    0    3    0    1]\n",
            " [   0    1    0    2    1    0    0    0    0    1    1    0    0    0\n",
            "     0    0    0    0    3    0   53    1    0    0    0    0    2    0]\n",
            " [  58   58    3    4    9    0    0    3    0    3    0    0    0    3\n",
            "     0   22    0  115   27    0  507    6    0    1    0    0    1    2]\n",
            " [  81    1    2    3    7    0    1    3    0    1    2    0    0    0\n",
            "     0    3    0    9  362    0  471    3    0    0    0    0    3    3]\n",
            " [   2    1    1    1    2    3    0    1    0    0    2    0    0    0\n",
            "     1    0    0    0    0    0  122    1    0    0    0    0    1    1]\n",
            " [ 273  134  114  150  256   35   54   77   16   50  144   38    4   36\n",
            "    14   81    0   53   75    1 9227   71    1   60    2    7   32   34]\n",
            " [  42    4    3    6   28    2    2    0    2    3    4    0    1    2\n",
            "     1   11    0    7    4    0  609  139    0    1    0    0    1    3]\n",
            " [  16    4    1    1    4    0    0    0    1    1    1    0    1    1\n",
            "     0    3    0    3    0    0   93    0    0    0    0    0    0    0]\n",
            " [  13   10    9   13   20    3    2    5    0    0   17    0    0    2\n",
            "     1    5    0    6    8    0  792    3    0   30    0    0    5    9]\n",
            " [   9    2    0    2    3    2    0    0    0    0    2    0    0    0\n",
            "     0   11    0    1    0    0  117    3    0    0    0    0    1    0]\n",
            " [   3    2    3    5    2    5    0    0    1    0    2    0    0    0\n",
            "     0    5    0    0    0    0  253    2    0    4    0   29   22    0]\n",
            " [   6    7    7    9   12    4    2    3    1    8   10    1    0    0\n",
            "     1    2    0    5    2    1  610    0    0    1    0   10   79    2]\n",
            " [  35    8    8    7    5    0    4    8    0    3    3    3    0    5\n",
            "     2    5    0    4    3    0  464    0    0    4    0    0    2   80]]\n"
          ]
        },
        {
          "name": "stderr",
          "output_type": "stream",
          "text": [
            "/usr/local/lib/python3.7/dist-packages/sklearn/metrics/_classification.py:1318: UndefinedMetricWarning: Precision and F-score are ill-defined and being set to 0.0 in labels with no predicted samples. Use `zero_division` parameter to control this behavior.\n",
            "  _warn_prf(average, modifier, msg_start, len(result))\n",
            "/usr/local/lib/python3.7/dist-packages/sklearn/metrics/_classification.py:1318: UndefinedMetricWarning: Precision and F-score are ill-defined and being set to 0.0 in labels with no predicted samples. Use `zero_division` parameter to control this behavior.\n",
            "  _warn_prf(average, modifier, msg_start, len(result))\n",
            "/usr/local/lib/python3.7/dist-packages/sklearn/metrics/_classification.py:1318: UndefinedMetricWarning: Precision and F-score are ill-defined and being set to 0.0 in labels with no predicted samples. Use `zero_division` parameter to control this behavior.\n",
            "  _warn_prf(average, modifier, msg_start, len(result))\n"
          ]
        },
        {
          "name": "stdout",
          "output_type": "stream",
          "text": [
            "\n",
            "\n",
            " Classification Report for the emotions : \n",
            "                precision    recall  f1-score   support\n",
            "\n",
            "    admiration       0.47      0.43      0.45      2068\n",
            "     amusement       0.50      0.31      0.38      1221\n",
            "         anger       0.33      0.14      0.19      1028\n",
            "     annoyance       0.21      0.07      0.10      1722\n",
            "      approval       0.26      0.09      0.13      2281\n",
            "        caring       0.31      0.05      0.09       742\n",
            "     confusion       0.34      0.06      0.10       980\n",
            "     curiosity       0.40      0.09      0.15      1190\n",
            "        desire       0.34      0.04      0.07       387\n",
            "disappointment       0.26      0.04      0.07       978\n",
            "   disapproval       0.20      0.05      0.09      1557\n",
            "       disgust       0.36      0.08      0.13       582\n",
            " embarrassment       0.44      0.03      0.05       290\n",
            "    excitement       0.25      0.04      0.07       610\n",
            "          fear       0.35      0.06      0.10       360\n",
            "     gratitude       0.76      0.68      0.72      1463\n",
            "         grief       0.00      0.00      0.00        65\n",
            "           joy       0.37      0.14      0.20       822\n",
            "          love       0.59      0.38      0.46       955\n",
            "   nervousness       0.00      0.00      0.00       139\n",
            "       neutral       0.37      0.84      0.51     11039\n",
            "      optimism       0.40      0.16      0.23       875\n",
            "         pride       0.00      0.00      0.00       130\n",
            "   realization       0.20      0.03      0.05       953\n",
            "        relief       0.00      0.00      0.00       153\n",
            "       remorse       0.53      0.09      0.15       338\n",
            "       sadness       0.39      0.10      0.16       783\n",
            "      surprise       0.40      0.12      0.19       653\n",
            "\n",
            "      accuracy                           0.39     34364\n",
            "     macro avg       0.32      0.15      0.17     34364\n",
            "  weighted avg       0.36      0.39      0.31     34364\n",
            "\n",
            " \n",
            "\n",
            "Confusion Matrix for the Sentiments: \n",
            "[[ 735  617 1436  980]\n",
            " [ 278 3965 2276 1215]\n",
            " [ 563 1927 5362 3163]\n",
            " [ 249  941 2196 8461]]\n",
            "\n",
            "\n",
            " Classification Report for the emotions : \n",
            "              precision    recall  f1-score   support\n",
            "\n",
            "   ambiguous       0.40      0.20      0.26      3768\n",
            "    negative       0.53      0.51      0.52      7734\n",
            "     neutral       0.48      0.49      0.48     11015\n",
            "    positive       0.61      0.71      0.66     11847\n",
            "\n",
            "    accuracy                           0.54     34364\n",
            "   macro avg       0.51      0.48      0.48     34364\n",
            "weighted avg       0.53      0.54      0.53     34364\n",
            "\n"
          ]
        }
      ],
      "source": [
        "# 2.3.1 Multinomial Naive Bayes Classifier with default parameters\n",
        "\n",
        "#for emotions\n",
        "MNB = MultinomialNB()\n",
        "MNB.fit(X_train, y_train)\n",
        "y_predict = MNB.predict(X_test)\n",
        "\n",
        "#for sentiments\n",
        "MNB1 = MultinomialNB()\n",
        "MNB1.fit(A_train,B_train)\n",
        "sent_predict = MNB1.predict(A_test)\n",
        "\n",
        "print('\\n\\n\\t\\t-------------- 2.3.1 Multinomial Naive Bayes Classifier with Default Parameter-------------\\n\\n')\n",
        "\n",
        "print(\" Confusion Matrix for the Emotions: \\n\" + str(metrics.confusion_matrix(y_test, y_predict)))\n",
        "print(\"\\n\\n Classification Report for the emotions : \\n\" + str(metrics.classification_report(y_test, y_predict)))\n",
        "\n",
        "\n",
        "print(\" \\n\\nConfusion Matrix for the Sentiments: \\n\" + str(metrics.confusion_matrix(B_test, sent_predict)))\n",
        "print(\"\\n\\n Classification Report for the emotions : \\n\" + str(metrics.classification_report(B_test, sent_predict)))\n",
        "\n",
        "\n"
      ]
    },
    {
      "cell_type": "code",
      "execution_count": null,
      "metadata": {
        "colab": {
          "base_uri": "https://localhost:8080/"
        },
        "id": "J9bRPndc0sYj",
        "outputId": "b83f6d19-8641-4c7c-ffdb-6f5961ed07ef"
      },
      "outputs": [
        {
          "name": "stdout",
          "output_type": "stream",
          "text": [
            "\n",
            "\n",
            "\t\t---Decision Tree CLASSIFIER with default parameters---\n",
            "\n",
            "\n",
            " Confusion Matrix for the Emotions: \n",
            "[[1153   41   16   39  119   17    7   16    8   12   20    4    4   45\n",
            "     7   69    1   53   79    3  267   30   11   13    5    1    4   24]\n",
            " [  60  730   14   39   42   12   16   11    6   12   17    9    3   13\n",
            "     5   10    0   50   12    0  162    6    2    9    1    1    3    9]\n",
            " [  25   20  366  134   30    6   20   13    5   30   43   41   10    5\n",
            "     7    2    2    6    4    2  231    4    1    9    1    5    3    6]\n",
            " [  50   68  214  370  103   32   51   45   14   58   94   47   22   10\n",
            "    10   11    3   10    7    4  376   10    2   11    0    4   17    7]\n",
            " [ 233   67   47  158  560   65   45   27   18   48   67   16    7   31\n",
            "    13   14    1   28   29   11  700   26    4   34    4    3   11    8]\n",
            " [  35   15   20   36   66  186   10    7   12   20   10    2    2    5\n",
            "     5   12    1   12   13    3  152   24    1    8    2    9   14    1]\n",
            " [  23   19   28   71   55   10  292  114    3   17   35    3    7    4\n",
            "     5    3    1    1    5    2  253    7    2   11    0    3    4   10]\n",
            " [  35   26   29   53   61    7  178  393    6    9   24    4    3   28\n",
            "     5    4    0    7    8    3  285    8    0    5    0    1    5   16]\n",
            " [  26    6   13   27   45   11    1   15  114    9   15    2    2    8\n",
            "     1    2    1   10   13    1   87   16    0    5    0    4    2    0]\n",
            " [  36   16   41  125   79   24   27   18   10  169   45   20   11    6\n",
            "     9    4    3    4   12    4  213    3    1   12    2   10   31    5]\n",
            " [  42   42   92  184  107   28   68   19   12   84  356   29   14    5\n",
            "     7    5    0    8    4    5  391    4    0   16    3    5   17   13]\n",
            " [  18   16   74   88   25    3   16    6    2   32   30  114    5    8\n",
            "    16    5    0    1    6    2   99    2    0    3    0    1    4    2]\n",
            " [   5    8   19   51   11    4    6    3    2   18   20   10   48    2\n",
            "     1    1    0    1    2    1   48    2    1    2    0    6    2    3]\n",
            " [  74   29   13   22   48    7   18   21    4    7    5    1    3  130\n",
            "     2   12    0   44   18    1  141   10    0    5    2    1    4   22]\n",
            " [   7   10   12   24   16   11    4    6    3   12   18   13    2    0\n",
            "   137    1    1    0    1    9   56    4    0    7    0    0    4    4]\n",
            " [ 120   11    5   16   26   13    6   10   13    9    8    0    0   15\n",
            "     0 1010    1   30    4    0   37   12    2    5    1   12    1    3]\n",
            " [   4    0    7    4   10    2    3    0    1    3    4    0    2    0\n",
            "     1    0    9    0    0    0   15    0    0    0    0    6    6    1]\n",
            " [ 109  116    9   25   61   16    4    9    9   18   13    2    3   36\n",
            "     4   29    0  189   51    0  130   18    1    5    6    0    2    7]\n",
            " [ 154   13    4   18   57   12   10    6   15    3    9    2    6   18\n",
            "     1   15    0   49  528    0   81    1    1    3    0    0    2    0]\n",
            " [   3    4    5   10    8   13    5    2    0   12    5    5    4    1\n",
            "     9    0    0    1    0   22   32    0    0    2    0    2    7    1]\n",
            " [ 546  340  400  703  985  260  432  380  130  306  488  111   69  152\n",
            "    79   81   22  148  128   37 4745  132   16  129   25   24   73   86]\n",
            " [  66   17   14   43   91   51   14   10   56   20   23    5    5   15\n",
            "     6   17    0   14    9    1  200  184    1   11    0    1    3    5]\n",
            " [  33    4    0    6   16    4    0    1    0    6    2    0    1    5\n",
            "     0    4    1    5    0    0   44    4   10    0    0    0    1    0]\n",
            " [  40   39   25   71  115   20   34   21   10   32   53    6    5    6\n",
            "     6    9    2   12    5    1  280   11    1   75    1   10   12   17]\n",
            " [  17    1    3   11   35   11    3    2    0    5    2    0    4    2\n",
            "     1   17    1   11    0    0   41    3    0    5    6    0    2    0]\n",
            " [   9    5    9   19   11   12   11    3    2   17    8    5   14    0\n",
            "     1   15    1    0    2    0   44    1    0    9    0   98   22    0]\n",
            " [  15   18   33   68   37   23   12   10    4   74   26   15   13    4\n",
            "    12   11   14    7    7    2  173    2    0    7    0   39  130    5]\n",
            " [  55   13   25   36   40    5   33   29    5   20   21    4   10   31\n",
            "     7    3    1   12    4    2  163    5    1   11    1    1    4  155]]\n",
            "\n",
            "\n",
            " Classification Report for the emotions : \n",
            "                precision    recall  f1-score   support\n",
            "\n",
            "    admiration       0.39      0.56      0.46      2068\n",
            "     amusement       0.43      0.58      0.50      1254\n",
            "         anger       0.24      0.35      0.29      1031\n",
            "     annoyance       0.15      0.22      0.18      1650\n",
            "      approval       0.20      0.25      0.22      2275\n",
            "        caring       0.22      0.27      0.24       683\n",
            "     confusion       0.22      0.30      0.25       988\n",
            "     curiosity       0.33      0.33      0.33      1203\n",
            "        desire       0.25      0.26      0.25       436\n",
            "disappointment       0.16      0.18      0.17       940\n",
            "   disapproval       0.24      0.23      0.24      1560\n",
            "       disgust       0.24      0.20      0.22       578\n",
            " embarrassment       0.17      0.17      0.17       277\n",
            "    excitement       0.22      0.20      0.21       644\n",
            "          fear       0.38      0.38      0.38       362\n",
            "     gratitude       0.74      0.74      0.74      1370\n",
            "         grief       0.14      0.12      0.12        78\n",
            "           joy       0.27      0.22      0.24       872\n",
            "          love       0.56      0.52      0.54      1008\n",
            "   nervousness       0.19      0.14      0.16       153\n",
            "       neutral       0.50      0.43      0.46     11027\n",
            "      optimism       0.35      0.21      0.26       882\n",
            "         pride       0.17      0.07      0.10       147\n",
            "   realization       0.18      0.08      0.11       919\n",
            "        relief       0.10      0.03      0.05       183\n",
            "       remorse       0.40      0.31      0.35       318\n",
            "       sadness       0.33      0.17      0.23       761\n",
            "      surprise       0.38      0.22      0.28       697\n",
            "\n",
            "      accuracy                           0.36     34364\n",
            "     macro avg       0.29      0.28      0.28     34364\n",
            "  weighted avg       0.37      0.36      0.36     34364\n",
            "\n",
            " \n",
            "\n",
            "Confusion Matrix for the Sentiments: \n",
            "[[1790  655  942  447]\n",
            " [ 772 4592 1469  701]\n",
            " [1651 2512 5185 1695]\n",
            " [ 879 1354 2688 7032]]\n",
            "\n",
            "\n",
            " Classification Report for the emotions : \n",
            "              precision    recall  f1-score   support\n",
            "\n",
            "   ambiguous       0.35      0.47      0.40      3834\n",
            "    negative       0.50      0.61      0.55      7534\n",
            "     neutral       0.50      0.47      0.49     11043\n",
            "    positive       0.71      0.59      0.64     11953\n",
            "\n",
            "    accuracy                           0.54     34364\n",
            "   macro avg       0.52      0.53      0.52     34364\n",
            "weighted avg       0.56      0.54      0.55     34364\n",
            "\n"
          ]
        }
      ],
      "source": [
        "# 2.3.2 Decision Tree with default parameters\n",
        "\n",
        "#for emotions\n",
        "clf = DecisionTreeClassifier()\n",
        "clf = clf.fit(X_train,y_train)\n",
        "dec_predict = clf.predict(X_test)\n",
        "\n",
        "#for sentiments\n",
        "clf1 = DecisionTreeClassifier()\n",
        "clf1 = clf1.fit(A_train,B_train)\n",
        "dec1_predict = clf1.predict(A_test)\n",
        "\n",
        "\n",
        "print('\\n\\n\\t\\t--- 2.3.2 Decision Tree CLASSIFIER with default parameters---\\n\\n')\n",
        "\n",
        "print(\" Confusion Matrix for the Emotions: \\n\" + str(metrics.confusion_matrix(y_test,dec_predict)))\n",
        "print(\"\\n\\n Classification Report for the emotions : \\n\" + str(metrics.classification_report(y_test, dec_predict)))\n",
        "\n",
        "\n",
        "print(\" \\n\\nConfusion Matrix for the Sentiments: \\n\" + str(metrics.confusion_matrix(B_test, dec1_predict)))\n",
        "print(\"\\n\\n Classification Report for the emotions : \\n\" + str(metrics.classification_report(B_test, dec1_predict)))\n",
        "\n"
      ]
    },
    {
      "cell_type": "code",
      "execution_count": null,
      "metadata": {
        "id": "NnFvDbUB0u5W"
      },
      "outputs": [],
      "source": [
        "# 2.3.3 Multi-Layered Perceptron with default parameters \n",
        "\n",
        "\n",
        "# I have been running this for 6 hours now and it still hasn't converged. Either the code is wrong or it just takes a long time.\n",
        "# I have  just a regular laptop, if you guys have a stronger pc, please try and run and let me know. \n",
        "#Update: So it ran for about 9 hours total, and the output basically said that it ran for the default of 200 epochs and it still didn't converge, so now I've set max iterations to only 10 \n",
        "\n",
        "#for emotions\n",
        "MLP = MLPClassifier(max_iter=10)\n",
        "MLP.fit(X_train, y_train)\n",
        "mlp_predict = MLP.predict(X_test)\n",
        "\n",
        "#for sentiments\n",
        "MLP1 = MLPClassifier(max_iter=10)\n",
        "MLP1.fit(A_train, B_train)\n",
        "mlp1_predict = MLP1.predict(A_test)\n",
        "\n",
        "\n",
        "\n",
        "print('\\n\\n\\t\\t--- 2.3.3 Multi Layered Perceptron CLASSIFIER with default parameters ---\\n\\n')\n",
        "\n",
        "print(\" Confusion Matrix for the Emotions: \\n\"+ str(metrics.confusion_matrix(y_test,mlp_predict)))\n",
        "print(\"\\n\\n Classification Report for the emotions : \\n\" + str(metrics.classification_report(y_test, mlp_predict)))\n",
        "\n",
        "\n",
        "print(\" \\n\\nConfusion Matrix for the Sentiments: \\n\" + str(metrics.confusion_matrix(B_test, mlp1_predict)))\n",
        "print(\"\\n\\n Classification Report for the emotions : \\n\" + str(metrics.classification_report(B_test, mlp1_predict)))"
      ]
    },
    {
      "cell_type": "code",
      "execution_count": null,
      "metadata": {
        "colab": {
          "base_uri": "https://localhost:8080/"
        },
        "id": "Yozca6Ac0xZf",
        "outputId": "52c2ea62-04e5-4706-fd4f-ff91ad067184"
      },
      "outputs": [
        {
          "name": "stdout",
          "output_type": "stream",
          "text": [
            "\n",
            "\n",
            "\t\t---- MNB with GridSearch--------\n",
            "Hyper parameters: alpha = [300, 20, 5, 140]\n",
            " \n",
            " \n",
            "Confusion Matrix for the Emotions: \n",
            "[[  401     3     0     1     2     0     0     0     0     0     0     0\n",
            "      0     0     0    11     0     1    15     0  1633     1     0     0\n",
            "      0     0     0     0]\n",
            " [   13    84     0     0     0     0     0     0     0     0     0     0\n",
            "      0     0     0     2     0     1     4     0  1150     0     0     0\n",
            "      0     0     0     0]\n",
            " [    4     0    15     2     0     0     1     0     0     0     0     1\n",
            "      0     0     0     2     0     0     0     0  1005     0     0     0\n",
            "      0     1     0     0]\n",
            " [    7     6     6     6     0     0     0     1     0     0     2     0\n",
            "      0     0     0     4     0     0     1     0  1616     0     0     0\n",
            "      0     0     1     0]\n",
            " [   31     2     0     0    39     0     0     0     0     0     1     0\n",
            "      0     0     0     3     0     0     2     0  2197     0     0     0\n",
            "      0     0     0     0]\n",
            " [    5     0     0     0     2     2     0     0     0     0     0     0\n",
            "      0     0     0     2     0     0     0     0   671     1     0     0\n",
            "      0     0     0     0]\n",
            " [    2     0     0     0     2     0     1     0     0     0     1     0\n",
            "      0     0     0     3     0     0     0     0   979     0     0     0\n",
            "      0     0     0     0]\n",
            " [    6     2     1     1     4     0     0     9     0     0     0     0\n",
            "      0     0     0     0     0     0     0     0  1177     0     0     2\n",
            "      0     0     0     1]\n",
            " [    1     2     0     0     1     0     0     0     2     0     0     0\n",
            "      0     0     0     1     0     0     3     0   425     1     0     0\n",
            "      0     0     0     0]\n",
            " [    5     1     0     1     0     0     0     0     0     2     0     1\n",
            "      0     0     0     3     0     0     0     0   925     1     0     1\n",
            "      0     0     0     0]\n",
            " [    6     3     2     1     6     0     0     1     0     0     6     1\n",
            "      0     0     0     1     0     0     0     0  1532     0     0     0\n",
            "      0     0     0     1]\n",
            " [    1     0     2     3     1     0     0     0     0     1     0    12\n",
            "      0     0     0     0     0     0     1     0   557     0     0     0\n",
            "      0     0     0     0]\n",
            " [    0     0     1     0     0     0     0     0     0     0     0     0\n",
            "      0     0     0     0     0     0     0     0   276     0     0     0\n",
            "      0     0     0     0]\n",
            " [   17     0     0     0     2     0     0     0     0     0     0     0\n",
            "      0     4     1     2     0     2     1     0   615     0     0     0\n",
            "      0     0     0     0]\n",
            " [    2     1     0     0     1     0     0     0     0     0     0     0\n",
            "      0     0     3     0     0     0     0     0   355     0     0     0\n",
            "      0     0     0     0]\n",
            " [   42     2     0     0     1     0     0     0     0     0     0     0\n",
            "      0     0     0   614     0     3     1     0   707     0     0     0\n",
            "      0     0     0     0]\n",
            " [    0     0     0     0     0     0     0     0     0     0     0     0\n",
            "      0     0     0     0     0     0     0     0    78     0     0     0\n",
            "      0     0     0     0]\n",
            " [   22    12     0     1     1     1     0     0     0     0     0     0\n",
            "      0     1     0     5     0    14     5     0   810     0     0     0\n",
            "      0     0     0     0]\n",
            " [   23     0     0     0     0     0     0     0     0     0     0     0\n",
            "      0     0     0     2     0     0    98     0   885     0     0     0\n",
            "      0     0     0     0]\n",
            " [    0     0     0     0     0     0     0     0     0     0     0     0\n",
            "      0     0     0     0     0     0     0     0   153     0     0     0\n",
            "      0     0     0     0]\n",
            " [   53    15     8     6    21     2     2     3     0     4     3     3\n",
            "      0     2     0    26     0     6     6     0 10853     4     0     4\n",
            "      0     1     1     4]\n",
            " [    8     1     0     0     0     0     0     0     0     0     0     0\n",
            "      0     0     0     2     0     0     0     0   858    13     0     0\n",
            "      0     0     0     0]\n",
            " [    7     0     0     0     0     0     0     0     0     0     0     0\n",
            "      0     0     0     1     0     0     0     0   139     0     0     0\n",
            "      0     0     0     0]\n",
            " [    2     1     0     1     1     1     0     0     0     0     1     0\n",
            "      0     0     0     1     0     0     0     0   907     1     0     2\n",
            "      0     0     0     1]\n",
            " [    1     0     0     0     0     0     0     0     0     0     0     0\n",
            "      0     0     0     8     0     2     0     0   172     0     0     0\n",
            "      0     0     0     0]\n",
            " [    0     0     0     0     0     0     0     0     0     0     0     0\n",
            "      0     0     0     2     0     0     0     0   312     0     0     0\n",
            "      0     4     0     0]\n",
            " [    0     1     0     1     1     0     0     0     0     1     1     0\n",
            "      0     0     0     1     0     0     0     0   750     0     0     0\n",
            "      0     0     5     0]\n",
            " [    9     0     0     2     0     0     0     0     0     0     0     0\n",
            "      0     0     0     0     0     0     0     0   674     0     0     1\n",
            "      0     0     0    11]]\n"
          ]
        },
        {
          "name": "stderr",
          "output_type": "stream",
          "text": [
            "/usr/local/lib/python3.7/dist-packages/sklearn/metrics/_classification.py:1318: UndefinedMetricWarning: Precision and F-score are ill-defined and being set to 0.0 in labels with no predicted samples. Use `zero_division` parameter to control this behavior.\n",
            "  _warn_prf(average, modifier, msg_start, len(result))\n",
            "/usr/local/lib/python3.7/dist-packages/sklearn/metrics/_classification.py:1318: UndefinedMetricWarning: Precision and F-score are ill-defined and being set to 0.0 in labels with no predicted samples. Use `zero_division` parameter to control this behavior.\n",
            "  _warn_prf(average, modifier, msg_start, len(result))\n",
            "/usr/local/lib/python3.7/dist-packages/sklearn/metrics/_classification.py:1318: UndefinedMetricWarning: Precision and F-score are ill-defined and being set to 0.0 in labels with no predicted samples. Use `zero_division` parameter to control this behavior.\n",
            "  _warn_prf(average, modifier, msg_start, len(result))\n"
          ]
        },
        {
          "name": "stdout",
          "output_type": "stream",
          "text": [
            "\n",
            "\n",
            " Classification Report for the emotions : \n",
            "                precision    recall  f1-score   support\n",
            "\n",
            "    admiration       0.60      0.19      0.29      2068\n",
            "     amusement       0.62      0.07      0.12      1254\n",
            "         anger       0.43      0.01      0.03      1031\n",
            "     annoyance       0.23      0.00      0.01      1650\n",
            "      approval       0.46      0.02      0.03      2275\n",
            "        caring       0.33      0.00      0.01       683\n",
            "     confusion       0.25      0.00      0.00       988\n",
            "     curiosity       0.64      0.01      0.01      1203\n",
            "        desire       1.00      0.00      0.01       436\n",
            "disappointment       0.25      0.00      0.00       940\n",
            "   disapproval       0.40      0.00      0.01      1560\n",
            "       disgust       0.67      0.02      0.04       578\n",
            " embarrassment       0.00      0.00      0.00       277\n",
            "    excitement       0.57      0.01      0.01       644\n",
            "          fear       0.75      0.01      0.02       362\n",
            "     gratitude       0.88      0.45      0.59      1370\n",
            "         grief       0.00      0.00      0.00        78\n",
            "           joy       0.48      0.02      0.03       872\n",
            "          love       0.72      0.10      0.17      1008\n",
            "   nervousness       0.00      0.00      0.00       153\n",
            "       neutral       0.33      0.98      0.50     11027\n",
            "      optimism       0.59      0.01      0.03       882\n",
            "         pride       0.00      0.00      0.00       147\n",
            "   realization       0.20      0.00      0.00       919\n",
            "        relief       0.00      0.00      0.00       183\n",
            "       remorse       0.67      0.01      0.02       318\n",
            "       sadness       0.71      0.01      0.01       761\n",
            "      surprise       0.61      0.02      0.03       697\n",
            "\n",
            "      accuracy                           0.36     34364\n",
            "     macro avg       0.44      0.07      0.07     34364\n",
            "  weighted avg       0.45      0.36      0.22     34364\n",
            "\n",
            "\n",
            "Grid best parameters: MultinomialNB(alpha=5)\n",
            "\n",
            "Grid best score: 0.35158158396909955\n",
            " \n",
            "\n",
            "Confusion Matrix for the Sentiments: \n",
            "[[ 240  457 1884 1253]\n",
            " [  21 3208 2686 1619]\n",
            " [  98 1362 5974 3609]\n",
            " [  44  599 2278 9032]]\n",
            "\n",
            "\n",
            " Classification Report for the emotions : \n",
            "              precision    recall  f1-score   support\n",
            "\n",
            "   ambiguous       0.60      0.06      0.11      3834\n",
            "    negative       0.57      0.43      0.49      7534\n",
            "     neutral       0.47      0.54      0.50     11043\n",
            "    positive       0.58      0.76      0.66     11953\n",
            "\n",
            "    accuracy                           0.54     34364\n",
            "   macro avg       0.55      0.45      0.44     34364\n",
            "weighted avg       0.54      0.54      0.51     34364\n",
            "\n",
            "\n",
            "Grid best parameters: MultinomialNB(alpha=5)\n",
            "\n",
            "Grid best score: 0.5243278128937855\n"
          ]
        }
      ],
      "source": [
        "# 2.3.4 Better performing Multinomial Naive Bayes Classifier using GridSearch\n",
        "\n",
        "\n",
        "param_grid = {\n",
        "             \"alpha\": [10, 5, 0.5, 0] # Got an error when using 0.5 and 0, so moved them to over 1, not sure what to do \n",
        "             }\n",
        "\n",
        "#for emotions\n",
        "grid_search = GridSearchCV(MNB, param_grid)\n",
        "grid_search = grid_search.fit(X_train, y_train)\n",
        "grid_predict = grid_search.predict(X_test)\n",
        "\n",
        "#for sentiments\n",
        "grid_search1 = GridSearchCV(MNB1, param_grid)\n",
        "grid_search1 = grid_search1.fit(A_train, B_train)\n",
        "grid_predict1 = grid_search1.predict(A_test)\n",
        "\n",
        "\n",
        "print('\\n\\n\\t\\t---- 2.3.4 MNB with GridSearch--------\\nHyper parameters: alpha = [300, 20, 0.5, 0]\\n ')\n",
        "\n",
        "\n",
        "print(\" \\nConfusion Matrix for the Emotions: \\n\"+ str(metrics.confusion_matrix(y_test,grid_predict)))\n",
        "print(\"\\n\\n Classification Report for the emotions : \\n\" + str(metrics.classification_report(y_test, grid_predict)))\n",
        "print('\\nGrid best parameters: ' + str(grid_search.best_estimator_))\n",
        "print('\\nGrid best score: ' + str(grid_search.best_score_))\n",
        "\n",
        "\n",
        "\n",
        "print(\" \\n\\nConfusion Matrix for the Sentiments: \\n\" + str(metrics.confusion_matrix(B_test, grid_predict1)))\n",
        "print(\"\\n\\n Classification Report for the emotions : \\n\" + str(metrics.classification_report(B_test, grid_predict1)))\n",
        "print('\\nGrid best parameters: ' + str(grid_search1.best_estimator_))\n",
        "print('\\nGrid best score: ' + str(grid_search1.best_score_))\n",
        "\n",
        "\n",
        "\n",
        "\n"
      ]
    },
    {
      "cell_type": "code",
      "execution_count": null,
      "metadata": {
        "id": "cEVrr0-501Jx"
      },
      "outputs": [],
      "source": [
        "# 2.3.5 Better performing Decision Tree using GridSearch\n",
        "\n",
        "\n",
        "tree_para = {'criterion':['gini', 'entropy'],\n",
        "            'max_depth':[28, 56],               \n",
        "            'min_samples_split':[137455,120,50],    \n",
        "         }\n",
        "\n",
        "\n",
        "tree_para1 = {\n",
        "            'criterion':['gini', 'entropy'],\n",
        "           'max_depth':[4, 8], #i'll try 4 and 8\n",
        "           'min_samples_split':[137455,120,50], #(training sample - 1)\n",
        "          } \n",
        "\n",
        "\n",
        "#FOR EMOTIONS\n",
        "dt_top = GridSearchCV(DecisionTreeClassifier(),tree_para,cv=10)\n",
        "dt_top.fit(X_train, y_train)\n",
        "dt_predict = dt_top.predict(X_test)\n",
        "\n",
        "#FOR SENTIMENTS\n",
        "dt_top1 = GridSearchCV(DecisionTreeClassifier(),tree_para1,cv=10)\n",
        "dt_top1.fit(A_train, B_train)\n",
        "dt_predict1 = dt_top1.predict(A_test)\n",
        "\n",
        "\n",
        "print('\\n\\n\\t\\t---- 2.3.5 DECISION TREE with GridSearch--------\\nHyper parameters: criterion : [gini, entropy]\\n max_depth = [3,10] \\n min_samples_split = [10, 20, 50]\\n ')\n",
        "\n",
        "\n",
        "print(\" \\nConfusion Matrix for the Emotions: \\n\"+ str(metrics.confusion_matrix(y_test,dt_predict)))\n",
        "print(\"\\n\\n Classification Report for the emotions : \\n\" + str(metrics.classification_report(y_test, dt_predict)))\n",
        "print('\\nGrid best parameters: ' + str(dt_top.best_estimator_))\n",
        "print('\\nGrid best score: ' + str(dt_top.best_score_))\n",
        "\n",
        "\n",
        "print(\" \\n\\nConfusion Matrix for the Sentiments: \\n\" + str(metrics.confusion_matrix(B_test, dt_predict1)))\n",
        "print(\"\\n\\n Classification Report for the emotions : \\n\" + str(metrics.classification_report(B_test, dt_predict1)))\n",
        "print('\\nGrid best parameters: ' + str(dt_top1.best_estimator_))\n",
        "print('\\nGrid best score: ' + str(dt_top1.best_score_))\n"
      ]
    },
    {
      "cell_type": "code",
      "execution_count": null,
      "metadata": {
        "id": "U9dxx6tY05oc"
      },
      "outputs": [],
      "source": [
        "# 2.3.6 Better performing Multi-Layered Perceptron using GridSearch\n",
        "\n",
        "MLP = MLPClassifier(max_iter=10)\n",
        "MLP1 = MLPClassifier(max_iter=10)\n",
        "parameter_space = {\n",
        "                  'activation':['logistic','tanh','relu', 'identity'],\n",
        "                  'hidden_layer_sizes' : [(100,50), (50,40,30)],\n",
        "                  'solver' :['adam', 'stochastic'],\n",
        "                  }\n",
        "\n",
        "#FOR EMOTIONS\n",
        "mlp_top = GridSearchCV(MLP, parameter_space, cv=10)\n",
        "mlp_top.fit(X_train, y_train)\n",
        "mlptop_predict = mlp_top.predict(X_test)\n",
        "\n",
        "#FOR SENTIMENTS\n",
        "mlp_top1 = GridSearchCV(MLP1, parameter_space, cv=10)\n",
        "mlp_top1.fit(A_train, B_train)\n",
        "mlptop_predict1 = mlp_top1.predict(A_test)\n",
        "\n",
        "\n",
        "\n",
        "print('\\n\\n\\t\\t---- 2.3.6 MutliLayered Perceptron with GridSearch--------\\nHyper parameters: activation : [sigmoid, tanh, relu, identity ]\\nhidden_layer_sizes = [(100,50), (50,40,30)]\\nsolver = [adam, stochastic]')\n",
        "\n",
        "\n",
        "print(\" \\nConfusion Matrix for the Emotions: \\n\"+ str(metrics.confusion_matrix(y_test,mlptop_predict)))\n",
        "print(\"\\n\\n Classification Report for the emotions : \\n\" + str(metrics.classification_report(y_test, mlptop_predict)))\n",
        "print('\\nGrid best parameters: ' + str(mlp_top.best_estimator_))\n",
        "print('\\nGrid best score: ' + str(mlp_top.best_score_))\n",
        "\n",
        "\n",
        "\n",
        "print(\" \\n\\nConfusion Matrix for the Sentiments: \\n\" + str(metrics.confusion_matrix(B_test, mlptop_predict1)))\n",
        "print(\"\\n\\n Classification Report for the emotions : \\n\" + str(metrics.classification_report(B_test, mlptop_predict1)))\n",
        "print('\\nGrid best parameters: ' + str(mlp_top1.best_estimator_))\n",
        "print('\\nGrid best score: ' + str(mlp_top1.best_score_))\n",
        "\n"
      ]
    },
    {
      "cell_type": "markdown",
      "metadata": {
        "id": "ugMfUXOu07xk"
      },
      "source": [
        "## Step 2.4 : Performance of Classifiers"
      ]
    },
    {
      "cell_type": "code",
      "execution_count": null,
      "metadata": {
        "id": "oBdwGWKaelAD"
      },
      "outputs": [],
      "source": [
        "#Writing all the outputs from the above 6 classifiers into file performance \n",
        "\n",
        "#same code as above, except instrad of printing, we are writing it to file\n",
        "# not sure if having this all in the same code block is a good idea, might move them into separate blocks as well like above. \n",
        "\n",
        "f = open('performance.txt','a') #this is how I wrote to file in pycharm, not sure if it works in jupyter tho \n",
        "\n",
        "\n",
        "f.write('\\n------These tests were conducted with 80% training and 20% testing split------\\n\\n')\n",
        "\n",
        "#2.3.1 Multinomial Naive Bayes Classifiers with default parameters\n",
        "\n",
        "#for emotions\n",
        "MNB = MultinomialNB()\n",
        "MNB.fit(X_train, y_train)\n",
        "y_predict = MNB.predict(X_test)\n",
        "\n",
        "\n",
        "\n",
        "#for sentiments\n",
        "MNB1 = MultinomialNB()\n",
        "MNB1.fit(A_train,B_train)\n",
        "sent_predict = MNB1.predict(A_test)\n",
        "\n",
        "\n",
        "\n",
        "f.write('\\n\\n\\t\\t---MNB CLASSIFIER with default values---\\n\\n')\n",
        "\n",
        "f.write(\" Confusion Matrix for the Emotions: \\n\" + str(metrics.confusion_matrix(y_test, y_predict)))\n",
        "f.write(\"\\n\\n Classification Report for the emotions : \\n\" + str(metrics.classification_report(y_test, y_predict)))\n",
        "\n",
        "\n",
        "\n",
        "f.write(\" \\n\\nConfusion Matrix for the Sentiments: \\n\" + str(metrics.confusion_matrix(B_test, sent_predict)))\n",
        "f.write(\"\\n\\n Classification Report for the emotions : \\n\" + str(metrics.classification_report(B_test, sent_predict)))\n",
        "\n",
        "\n",
        "\n",
        "\n",
        "\n",
        "\n",
        "#2.3.2 Decision tree classifier\n",
        "\n",
        "#for emotions\n",
        "clf = DecisionTreeClassifier()\n",
        "clf = clf.fit(X_train,y_train)\n",
        "dec_predict = clf.predict(X_test)\n",
        "\n",
        "\n",
        "#for sentiments\n",
        "clf1 = DecisionTreeClassifier()\n",
        "clf1 = clf1.fit(A_train,B_train)\n",
        "dec1_predict = clf1.predict(A_test)\n",
        "\n",
        "\n",
        "f.write('\\n\\n\\t\\t---Decision Tree CLASSIFIER---\\n\\n')\n",
        "\n",
        "f.write(\" Confusion Matrix for the Emotions: \\n\" + str(metrics.confusion_matrix(y_test,dec_predict)))\n",
        "f.write(\"\\n\\n Classification Report for the emotions : \\n\" + str(metrics.classification_report(y_test, dec_predict)))\n",
        "\n",
        "\n",
        "\n",
        "f.write(\" \\n\\nConfusion Matrix for the Sentiments: \\n\" + str(metrics.confusion_matrix(B_test, dec1_predict)))\n",
        "f.write(\"\\n\\n Classification Report for the emotions : \\n\" + str(metrics.classification_report(B_test, dec1_predict)))\n",
        "\n",
        "\n",
        "\n",
        "\n",
        "\n",
        "#2.3.3 Multi Layered Perceptron\n",
        "\n",
        "#for emotions\n",
        "MLP = MLPClassifier(max_iter=10)\n",
        "MLP.fit(X_train, y_train)\n",
        "mlp_predict = MLP.predict(X_test)\n",
        "\n",
        "#for sentiments\n",
        "MLP1 = MLPClassifier(max_iter=10)\n",
        "MLP1.fit(A_train, B_train)\n",
        "mlp1_predict = MLP1.predict(A_test)\n",
        "\n",
        "\n",
        "\n",
        "f.write('\\n\\n\\t\\t---Multi Layered Perceptron CLASSIFIER---\\n\\n')\n",
        "\n",
        "f.write(\" Confusion Matrix for the Emotions: \\n\"+ str(metrics.confusion_matrix(y_test,mlp_predict)))\n",
        "f.write(\"\\n\\n Classification Report for the emotions : \\n\" + str(metrics.classification_report(y_test, mlp_predict)))\n",
        "\n",
        "\n",
        "\n",
        "f.write(\" \\n\\nConfusion Matrix for the Sentiments: \\n\" + str(metrics.confusion_matrix(B_test, mlp1_predict)))\n",
        "f.write(\"\\n\\n Classification Report for the emotions : \\n\" + str(metrics.classification_report(B_test, mlp1_predict)))\n",
        "\n",
        "\n",
        "\n",
        "\n",
        "\n",
        "\n",
        "#2.3.4 Multinomial Naive Bayes usign GridSearchCV\n",
        "\n",
        "\n",
        "\n",
        "param_grid = {\n",
        "          \"alpha\": [300, 20, 5, 140] # Get an error when using 0.5 and 0\n",
        "          }\n",
        "\n",
        "#for emotions\n",
        "grid_search = GridSearchCV(MNB, param_grid)\n",
        "grid_search = grid_search.fit(X_train, y_train)\n",
        "grid_predict = grid_search.predict(X_test)\n",
        "\n",
        "#for sentiments\n",
        "grid_search1 = GridSearchCV(MNB1, param_grid)\n",
        "grid_search1 = grid_search1.fit(A_train, B_train)\n",
        "grid_predict1 = grid_search1.predict(A_test)\n",
        "\n",
        "\n",
        "f.write('\\n\\n\\t\\t---- MNB with GridSearch--------\\nHyper parameters: alpha = [300,20,5,140]\\n ')\n",
        "\n",
        "\n",
        "f.write(\" \\nConfusion Matrix for the Emotions: \\n\"+ str(metrics.confusion_matrix(y_test,grid_predict)))\n",
        "f.write(\"\\n\\n Classification Report for the emotions : \\n\" + str(metrics.classification_report(y_test, grid_predict)))\n",
        "f.write('\\nGrid best parameters: ' + str(grid_search.best_estimator_))\n",
        "f.write('\\nGrid best score: ' + str(grid_search.best_score_))\n",
        "\n",
        "\n",
        "\n",
        "f.write(\" \\n\\nConfusion Matrix for the Sentiments: \\n\" + str(metrics.confusion_matrix(B_test, grid_predict1)))\n",
        "f.write(\"\\n\\n Classification Report for the emotions : \\n\" + str(metrics.classification_report(B_test, grid_predict1)))\n",
        "f.write('\\nGrid best parameters: ' + str(grid_search1.best_estimator_))\n",
        "f.write('\\nGrid best score: ' + str(grid_search1.best_score_))\n",
        "\n",
        "\n",
        "\n",
        "\n",
        "\n",
        "\n",
        "\n",
        "\n",
        "#2.3.5 Top DT\n",
        "\n",
        "\n",
        "tree_para = {'criterion':['gini', 'entropy'],\n",
        "            'max_depth':[3, 10],\n",
        "            'min_samples_split':[10,20,50],\n",
        "         }\n",
        "\n",
        "\n",
        "#FOR EMOTIONS\n",
        "dt_top = GridSearchCV(DecisionTreeClassifier(),tree_para,cv=10)\n",
        "dt_top.fit(X_train, y_train)\n",
        "dt_predict = dt_top.predict(X_test)\n",
        "\n",
        "#FOR SENTIMENTS\n",
        "dt_top1 = GridSearchCV(DecisionTreeClassifier(),tree_para,cv=10)\n",
        "dt_top1.fit(A_train, B_train)\n",
        "dt_predict1 = dt_top1.predict(A_test)\n",
        "\n",
        "\n",
        "f.write('\\n\\n\\t\\t---- DECISION TREE with GridSearch--------\\nHyper parameters: criterion : [gini, entropy]\\n max_depth = [3,10] \\n min_samples_split = [10, 20, 50]\\n ')\n",
        "\n",
        "\n",
        "f.write(\" \\nConfusion Matrix for the Emotions: \\n\"+ str(metrics.confusion_matrix(y_test,dt_predict)))\n",
        "f.write(\"\\n\\n Classification Report for the emotions : \\n\" + str(metrics.classification_report(y_test, dt_predict)))\n",
        "f.write('\\nGrid best parameters: ' + str(dt_top.best_estimator_))\n",
        "f.write('\\nGrid best score: ' + str(dt_top.best_score_))\n",
        "\n",
        "\n",
        "f.write(\" \\n\\nConfusion Matrix for the Sentiments: \\n\" + str(metrics.confusion_matrix(B_test, dt_predict1)))\n",
        "f.write(\"\\n\\n Classification Report for the emotions : \\n\" + str(metrics.classification_report(B_test, dt_predict1)))\n",
        "f.write('\\nGrid best parameters: ' + str(dt_top1.best_estimator_))\n",
        "f.write('\\nGrid best score: ' + str(dt_top1.best_score_))\n",
        "\n",
        "\n",
        "\n",
        "\n",
        "\n",
        "\n",
        "#2.3.6 Top MPL\n",
        "\n",
        "parameter_space = {\n",
        "  'activation':['sigmoid','tanh','relu', 'identity'],\n",
        "   'hidden_layer_sizes' : [(100,50), (50,40,30)],\n",
        "    'solver' :['adam', 'stochastic'],\n",
        "}\n",
        "\n",
        "#FOR EMOTIONS\n",
        "mlp_top = GridSearchCV(MLP, parameter_space, cv=10)\n",
        "mlp_top.fit(X_train, y_train)\n",
        "mlptop_predict = mlp_top.predict(X_test)\n",
        "\n",
        "#FOR SENTIMENTS\n",
        "mlp_top1 = GridSearchCV(MLP1, parameter_space, cv=10)\n",
        "mlp_top1.fit(A_train, B_train)\n",
        "mlptop_predict1 = mlp_top1.predict(A_test)\n",
        "\n",
        "\n",
        "\n",
        "f.write('\\n\\n\\t\\t---- MutliLayered Perceptron with GridSearch--------\\nHyper parameters: activation : [sigmoid, tanh, relu, identity ]\\nhidden_layer_sizes = [(100,50), (50,40,30)]\\nsolver = [adam, stochastic]')\n",
        "\n",
        "\n",
        "f.write(\" \\nConfusion Matrix for the Emotions: \\n\"+ str(metrics.confusion_matrix(y_test,mlptop_predict)))\n",
        "f.write(\"\\n\\n Classification Report for the emotions : \\n\" + str(metrics.classification_report(y_test, mlptop_predict)))\n",
        "f.write('\\nGrid best parameters: ' + str(mlp_top.best_estimator_))\n",
        "f.write('\\nGrid best score: ' + str(mlp_top.best_score_))\n",
        "\n",
        "\n",
        "\n",
        "f.write(\" \\n\\nConfusion Matrix for the Sentiments: \\n\" + str(metrics.confusion_matrix(B_test, mlptop_predict1)))\n",
        "f.write(\"\\n\\n Classification Report for the emotions : \\n\" + str(metrics.classification_report(B_test, mlptop_predict1)))\n",
        "f.write('\\nGrid best parameters: ' + str(mlp_top1.best_estimator_))\n",
        "f.write('\\nGrid best score: ' + str(mlp_top1.best_score_))\n",
        "\n",
        "\n"
      ]
    },
    {
      "cell_type": "markdown",
      "metadata": {
        "id": "s3p-BjvSfj6-"
      },
      "source": [
        "2.5 Run all 6 classifiers again with different Test-Training split "
      ]
    },
    {
      "cell_type": "code",
      "execution_count": null,
      "metadata": {
        "id": "Hfggp8-nftdS"
      },
      "outputs": [],
      "source": [
        "#have to insert same code as above, but also include the split part, and change the split to whatever works better. \n",
        "#In the demo they might run the code with a smaller dataset, so our split will have to be precise in that regard\n",
        "# probably not gonna copy the code here, will just change the splits on my end and write to a new file maybe \n",
        "\n"
      ]
    },
    {
      "cell_type": "markdown",
      "metadata": {
        "id": "6L4EBmRbVu1A"
      },
      "source": [
        "3.0"
      ]
    },
    {
      "cell_type": "code",
      "execution_count": null,
      "metadata": {
        "id": "4-5rUZLSVuJ_"
      },
      "outputs": [],
      "source": [
        "import gensim.downloader as api\n",
        "from nltk.tokenize import word_tokenize\n",
        "from gensim.models import Word2Vec\n",
        "import nltk\n",
        "nltk.download('punkt')\n",
        "from nltk import word_tokenize \n"
      ]
    },
    {
      "cell_type": "markdown",
      "metadata": {
        "id": "DxMfVdjLC6N4"
      },
      "source": [
        "# 3.1"
      ]
    },
    {
      "cell_type": "code",
      "execution_count": null,
      "metadata": {
        "id": "on7CR0wNC_Ob"
      },
      "outputs": [],
      "source": [
        "model = api.load(\"word2vec-google-news-300\")  # download the model and return as object ready for use"
      ]
    },
    {
      "cell_type": "markdown",
      "metadata": {
        "id": "5n8oysBBDPxd"
      },
      "source": [
        "# 3.2"
      ]
    },
    {
      "cell_type": "code",
      "execution_count": null,
      "metadata": {
        "colab": {
          "base_uri": "https://localhost:8080/",
          "height": 240
        },
        "id": "AXP0B52TlrzA",
        "outputId": "03882b52-0e4b-4697-c72b-989f01ae52b1"
      },
      "outputs": [
        {
          "ename": "NameError",
          "evalue": "ignored",
          "output_type": "error",
          "traceback": [
            "\u001b[0;31m---------------------------------------------------------------------------\u001b[0m",
            "\u001b[0;31mNameError\u001b[0m                                 Traceback (most recent call last)",
            "\u001b[0;32m<ipython-input-2-5167b5398e22>\u001b[0m in \u001b[0;36m<module>\u001b[0;34m\u001b[0m\n\u001b[1;32m      1\u001b[0m \u001b[0mcounter\u001b[0m \u001b[0;34m=\u001b[0m \u001b[0;36m0\u001b[0m\u001b[0;34m\u001b[0m\u001b[0;34m\u001b[0m\u001b[0m\n\u001b[0;32m----> 2\u001b[0;31m \u001b[0mredVec\u001b[0m \u001b[0;34m=\u001b[0m \u001b[0;34m[\u001b[0m\u001b[0mnltk\u001b[0m\u001b[0;34m.\u001b[0m\u001b[0mword_tokenize\u001b[0m\u001b[0;34m(\u001b[0m\u001b[0mt\u001b[0m\u001b[0;34m)\u001b[0m \u001b[0;32mfor\u001b[0m \u001b[0mt\u001b[0m \u001b[0;32min\u001b[0m \u001b[0mdf\u001b[0m\u001b[0;34m.\u001b[0m\u001b[0mtext\u001b[0m\u001b[0;34m]\u001b[0m\u001b[0;34m\u001b[0m\u001b[0;34m\u001b[0m\u001b[0m\n\u001b[0m\u001b[1;32m      3\u001b[0m \u001b[0;32mfor\u001b[0m \u001b[0msentence\u001b[0m \u001b[0;32min\u001b[0m \u001b[0mredVec\u001b[0m\u001b[0;34m:\u001b[0m\u001b[0;34m\u001b[0m\u001b[0;34m\u001b[0m\u001b[0m\n\u001b[1;32m      4\u001b[0m     \u001b[0mcounter\u001b[0m \u001b[0;34m+=\u001b[0m \u001b[0mlen\u001b[0m\u001b[0;34m(\u001b[0m\u001b[0msentence\u001b[0m\u001b[0;34m)\u001b[0m\u001b[0;34m\u001b[0m\u001b[0;34m\u001b[0m\u001b[0m\n\u001b[1;32m      5\u001b[0m \u001b[0mprint\u001b[0m\u001b[0;34m(\u001b[0m\u001b[0mcounter\u001b[0m\u001b[0;34m)\u001b[0m\u001b[0;34m\u001b[0m\u001b[0;34m\u001b[0m\u001b[0m\n",
            "\u001b[0;31mNameError\u001b[0m: name 'df' is not defined"
          ]
        }
      ],
      "source": [
        "counter = 0\n",
        "redVec = [nltk.word_tokenize(t) for t in df.text]\n",
        "for sentence in redVec:\n",
        "    counter += len(sentence)\n",
        "print(counter)"
      ]
    },
    {
      "cell_type": "code",
      "execution_count": null,
      "metadata": {
        "colab": {
          "base_uri": "https://localhost:8080/",
          "height": 425
        },
        "id": "66eDqwi6dGZ3",
        "outputId": "f52584a7-1b16-4961-fd10-a2f7b8dbf05c"
      },
      "outputs": [
        {
          "ename": "TypeError",
          "evalue": "ignored",
          "output_type": "error",
          "traceback": [
            "\u001b[0;31m---------------------------------------------------------------------------\u001b[0m",
            "\u001b[0;31mTypeError\u001b[0m                                 Traceback (most recent call last)",
            "\u001b[0;32m<ipython-input-118-19eb885df354>\u001b[0m in \u001b[0;36m<module>\u001b[0;34m\u001b[0m\n\u001b[1;32m      2\u001b[0m \u001b[0mtokens\u001b[0m \u001b[0;34m=\u001b[0m \u001b[0mlist\u001b[0m\u001b[0;34m(\u001b[0m\u001b[0mmap\u001b[0m\u001b[0;34m(\u001b[0m\u001b[0mlen\u001b[0m\u001b[0;34m,\u001b[0m \u001b[0mmap\u001b[0m\u001b[0;34m(\u001b[0m\u001b[0mnltk\u001b[0m\u001b[0;34m.\u001b[0m\u001b[0mword_tokenize\u001b[0m\u001b[0;34m,\u001b[0m \u001b[0mtexts\u001b[0m\u001b[0;34m)\u001b[0m\u001b[0;34m)\u001b[0m\u001b[0;34m)\u001b[0m\u001b[0;34m\u001b[0m\u001b[0;34m\u001b[0m\u001b[0m\n\u001b[1;32m      3\u001b[0m \u001b[0mtotal\u001b[0m \u001b[0;34m=\u001b[0m \u001b[0msum\u001b[0m\u001b[0;34m(\u001b[0m\u001b[0mtokens\u001b[0m\u001b[0;34m)\u001b[0m\u001b[0;34m\u001b[0m\u001b[0;34m\u001b[0m\u001b[0m\n\u001b[0;32m----> 4\u001b[0;31m \u001b[0mtokenizer\u001b[0m \u001b[0;34m=\u001b[0m \u001b[0mword_tokenize\u001b[0m\u001b[0;34m(\u001b[0m\u001b[0mtexts\u001b[0m\u001b[0;34m)\u001b[0m\u001b[0;34m\u001b[0m\u001b[0;34m\u001b[0m\u001b[0m\n\u001b[0m\u001b[1;32m      5\u001b[0m \u001b[0mtokenizer\u001b[0m\u001b[0;34m\u001b[0m\u001b[0;34m\u001b[0m\u001b[0m\n",
            "\u001b[0;32m/usr/local/lib/python3.7/dist-packages/nltk/tokenize/__init__.py\u001b[0m in \u001b[0;36mword_tokenize\u001b[0;34m(text, language, preserve_line)\u001b[0m\n\u001b[1;32m    127\u001b[0m     \u001b[0;34m:\u001b[0m\u001b[0mtype\u001b[0m \u001b[0mpreserve_line\u001b[0m\u001b[0;34m:\u001b[0m \u001b[0mbool\u001b[0m\u001b[0;34m\u001b[0m\u001b[0;34m\u001b[0m\u001b[0m\n\u001b[1;32m    128\u001b[0m     \"\"\"\n\u001b[0;32m--> 129\u001b[0;31m     \u001b[0msentences\u001b[0m \u001b[0;34m=\u001b[0m \u001b[0;34m[\u001b[0m\u001b[0mtext\u001b[0m\u001b[0;34m]\u001b[0m \u001b[0;32mif\u001b[0m \u001b[0mpreserve_line\u001b[0m \u001b[0;32melse\u001b[0m \u001b[0msent_tokenize\u001b[0m\u001b[0;34m(\u001b[0m\u001b[0mtext\u001b[0m\u001b[0;34m,\u001b[0m \u001b[0mlanguage\u001b[0m\u001b[0;34m)\u001b[0m\u001b[0;34m\u001b[0m\u001b[0;34m\u001b[0m\u001b[0m\n\u001b[0m\u001b[1;32m    130\u001b[0m     return [\n\u001b[1;32m    131\u001b[0m         \u001b[0mtoken\u001b[0m \u001b[0;32mfor\u001b[0m \u001b[0msent\u001b[0m \u001b[0;32min\u001b[0m \u001b[0msentences\u001b[0m \u001b[0;32mfor\u001b[0m \u001b[0mtoken\u001b[0m \u001b[0;32min\u001b[0m \u001b[0m_treebank_word_tokenizer\u001b[0m\u001b[0;34m.\u001b[0m\u001b[0mtokenize\u001b[0m\u001b[0;34m(\u001b[0m\u001b[0msent\u001b[0m\u001b[0;34m)\u001b[0m\u001b[0;34m\u001b[0m\u001b[0;34m\u001b[0m\u001b[0m\n",
            "\u001b[0;32m/usr/local/lib/python3.7/dist-packages/nltk/tokenize/__init__.py\u001b[0m in \u001b[0;36msent_tokenize\u001b[0;34m(text, language)\u001b[0m\n\u001b[1;32m    105\u001b[0m     \"\"\"\n\u001b[1;32m    106\u001b[0m     \u001b[0mtokenizer\u001b[0m \u001b[0;34m=\u001b[0m \u001b[0mload\u001b[0m\u001b[0;34m(\u001b[0m\u001b[0;34mf\"tokenizers/punkt/{language}.pickle\"\u001b[0m\u001b[0;34m)\u001b[0m\u001b[0;34m\u001b[0m\u001b[0;34m\u001b[0m\u001b[0m\n\u001b[0;32m--> 107\u001b[0;31m     \u001b[0;32mreturn\u001b[0m \u001b[0mtokenizer\u001b[0m\u001b[0;34m.\u001b[0m\u001b[0mtokenize\u001b[0m\u001b[0;34m(\u001b[0m\u001b[0mtext\u001b[0m\u001b[0;34m)\u001b[0m\u001b[0;34m\u001b[0m\u001b[0;34m\u001b[0m\u001b[0m\n\u001b[0m\u001b[1;32m    108\u001b[0m \u001b[0;34m\u001b[0m\u001b[0m\n\u001b[1;32m    109\u001b[0m \u001b[0;34m\u001b[0m\u001b[0m\n",
            "\u001b[0;32m/usr/local/lib/python3.7/dist-packages/nltk/tokenize/punkt.py\u001b[0m in \u001b[0;36mtokenize\u001b[0;34m(self, text, realign_boundaries)\u001b[0m\n\u001b[1;32m   1274\u001b[0m         \u001b[0mGiven\u001b[0m \u001b[0ma\u001b[0m \u001b[0mtext\u001b[0m\u001b[0;34m,\u001b[0m \u001b[0mreturns\u001b[0m \u001b[0ma\u001b[0m \u001b[0mlist\u001b[0m \u001b[0mof\u001b[0m \u001b[0mthe\u001b[0m \u001b[0msentences\u001b[0m \u001b[0;32min\u001b[0m \u001b[0mthat\u001b[0m \u001b[0mtext\u001b[0m\u001b[0;34m.\u001b[0m\u001b[0;34m\u001b[0m\u001b[0;34m\u001b[0m\u001b[0m\n\u001b[1;32m   1275\u001b[0m         \"\"\"\n\u001b[0;32m-> 1276\u001b[0;31m         \u001b[0;32mreturn\u001b[0m \u001b[0mlist\u001b[0m\u001b[0;34m(\u001b[0m\u001b[0mself\u001b[0m\u001b[0;34m.\u001b[0m\u001b[0msentences_from_text\u001b[0m\u001b[0;34m(\u001b[0m\u001b[0mtext\u001b[0m\u001b[0;34m,\u001b[0m \u001b[0mrealign_boundaries\u001b[0m\u001b[0;34m)\u001b[0m\u001b[0;34m)\u001b[0m\u001b[0;34m\u001b[0m\u001b[0;34m\u001b[0m\u001b[0m\n\u001b[0m\u001b[1;32m   1277\u001b[0m \u001b[0;34m\u001b[0m\u001b[0m\n\u001b[1;32m   1278\u001b[0m     \u001b[0;32mdef\u001b[0m \u001b[0mdebug_decisions\u001b[0m\u001b[0;34m(\u001b[0m\u001b[0mself\u001b[0m\u001b[0;34m,\u001b[0m \u001b[0mtext\u001b[0m\u001b[0;34m)\u001b[0m\u001b[0;34m:\u001b[0m\u001b[0;34m\u001b[0m\u001b[0;34m\u001b[0m\u001b[0m\n",
            "\u001b[0;32m/usr/local/lib/python3.7/dist-packages/nltk/tokenize/punkt.py\u001b[0m in \u001b[0;36msentences_from_text\u001b[0;34m(self, text, realign_boundaries)\u001b[0m\n\u001b[1;32m   1330\u001b[0m         \u001b[0mfollows\u001b[0m \u001b[0mthe\u001b[0m \u001b[0mperiod\u001b[0m\u001b[0;34m.\u001b[0m\u001b[0;34m\u001b[0m\u001b[0;34m\u001b[0m\u001b[0m\n\u001b[1;32m   1331\u001b[0m         \"\"\"\n\u001b[0;32m-> 1332\u001b[0;31m         \u001b[0;32mreturn\u001b[0m \u001b[0;34m[\u001b[0m\u001b[0mtext\u001b[0m\u001b[0;34m[\u001b[0m\u001b[0ms\u001b[0m\u001b[0;34m:\u001b[0m\u001b[0me\u001b[0m\u001b[0;34m]\u001b[0m \u001b[0;32mfor\u001b[0m \u001b[0ms\u001b[0m\u001b[0;34m,\u001b[0m \u001b[0me\u001b[0m \u001b[0;32min\u001b[0m \u001b[0mself\u001b[0m\u001b[0;34m.\u001b[0m\u001b[0mspan_tokenize\u001b[0m\u001b[0;34m(\u001b[0m\u001b[0mtext\u001b[0m\u001b[0;34m,\u001b[0m \u001b[0mrealign_boundaries\u001b[0m\u001b[0;34m)\u001b[0m\u001b[0;34m]\u001b[0m\u001b[0;34m\u001b[0m\u001b[0;34m\u001b[0m\u001b[0m\n\u001b[0m\u001b[1;32m   1333\u001b[0m \u001b[0;34m\u001b[0m\u001b[0m\n\u001b[1;32m   1334\u001b[0m     \u001b[0;32mdef\u001b[0m \u001b[0m_match_potential_end_contexts\u001b[0m\u001b[0;34m(\u001b[0m\u001b[0mself\u001b[0m\u001b[0;34m,\u001b[0m \u001b[0mtext\u001b[0m\u001b[0;34m)\u001b[0m\u001b[0;34m:\u001b[0m\u001b[0;34m\u001b[0m\u001b[0;34m\u001b[0m\u001b[0m\n",
            "\u001b[0;32m/usr/local/lib/python3.7/dist-packages/nltk/tokenize/punkt.py\u001b[0m in \u001b[0;36m<listcomp>\u001b[0;34m(.0)\u001b[0m\n\u001b[1;32m   1330\u001b[0m         \u001b[0mfollows\u001b[0m \u001b[0mthe\u001b[0m \u001b[0mperiod\u001b[0m\u001b[0;34m.\u001b[0m\u001b[0;34m\u001b[0m\u001b[0;34m\u001b[0m\u001b[0m\n\u001b[1;32m   1331\u001b[0m         \"\"\"\n\u001b[0;32m-> 1332\u001b[0;31m         \u001b[0;32mreturn\u001b[0m \u001b[0;34m[\u001b[0m\u001b[0mtext\u001b[0m\u001b[0;34m[\u001b[0m\u001b[0ms\u001b[0m\u001b[0;34m:\u001b[0m\u001b[0me\u001b[0m\u001b[0;34m]\u001b[0m \u001b[0;32mfor\u001b[0m \u001b[0ms\u001b[0m\u001b[0;34m,\u001b[0m \u001b[0me\u001b[0m \u001b[0;32min\u001b[0m \u001b[0mself\u001b[0m\u001b[0;34m.\u001b[0m\u001b[0mspan_tokenize\u001b[0m\u001b[0;34m(\u001b[0m\u001b[0mtext\u001b[0m\u001b[0;34m,\u001b[0m \u001b[0mrealign_boundaries\u001b[0m\u001b[0;34m)\u001b[0m\u001b[0;34m]\u001b[0m\u001b[0;34m\u001b[0m\u001b[0;34m\u001b[0m\u001b[0m\n\u001b[0m\u001b[1;32m   1333\u001b[0m \u001b[0;34m\u001b[0m\u001b[0m\n\u001b[1;32m   1334\u001b[0m     \u001b[0;32mdef\u001b[0m \u001b[0m_match_potential_end_contexts\u001b[0m\u001b[0;34m(\u001b[0m\u001b[0mself\u001b[0m\u001b[0;34m,\u001b[0m \u001b[0mtext\u001b[0m\u001b[0;34m)\u001b[0m\u001b[0;34m:\u001b[0m\u001b[0;34m\u001b[0m\u001b[0;34m\u001b[0m\u001b[0m\n",
            "\u001b[0;32m/usr/local/lib/python3.7/dist-packages/nltk/tokenize/punkt.py\u001b[0m in \u001b[0;36mspan_tokenize\u001b[0;34m(self, text, realign_boundaries)\u001b[0m\n\u001b[1;32m   1320\u001b[0m         \u001b[0;32mif\u001b[0m \u001b[0mrealign_boundaries\u001b[0m\u001b[0;34m:\u001b[0m\u001b[0;34m\u001b[0m\u001b[0;34m\u001b[0m\u001b[0m\n\u001b[1;32m   1321\u001b[0m             \u001b[0mslices\u001b[0m \u001b[0;34m=\u001b[0m \u001b[0mself\u001b[0m\u001b[0;34m.\u001b[0m\u001b[0m_realign_boundaries\u001b[0m\u001b[0;34m(\u001b[0m\u001b[0mtext\u001b[0m\u001b[0;34m,\u001b[0m \u001b[0mslices\u001b[0m\u001b[0;34m)\u001b[0m\u001b[0;34m\u001b[0m\u001b[0;34m\u001b[0m\u001b[0m\n\u001b[0;32m-> 1322\u001b[0;31m         \u001b[0;32mfor\u001b[0m \u001b[0msentence\u001b[0m \u001b[0;32min\u001b[0m \u001b[0mslices\u001b[0m\u001b[0;34m:\u001b[0m\u001b[0;34m\u001b[0m\u001b[0;34m\u001b[0m\u001b[0m\n\u001b[0m\u001b[1;32m   1323\u001b[0m             \u001b[0;32myield\u001b[0m \u001b[0;34m(\u001b[0m\u001b[0msentence\u001b[0m\u001b[0;34m.\u001b[0m\u001b[0mstart\u001b[0m\u001b[0;34m,\u001b[0m \u001b[0msentence\u001b[0m\u001b[0;34m.\u001b[0m\u001b[0mstop\u001b[0m\u001b[0;34m)\u001b[0m\u001b[0;34m\u001b[0m\u001b[0;34m\u001b[0m\u001b[0m\n\u001b[1;32m   1324\u001b[0m \u001b[0;34m\u001b[0m\u001b[0m\n",
            "\u001b[0;32m/usr/local/lib/python3.7/dist-packages/nltk/tokenize/punkt.py\u001b[0m in \u001b[0;36m_realign_boundaries\u001b[0;34m(self, text, slices)\u001b[0m\n\u001b[1;32m   1419\u001b[0m         \"\"\"\n\u001b[1;32m   1420\u001b[0m         \u001b[0mrealign\u001b[0m \u001b[0;34m=\u001b[0m \u001b[0;36m0\u001b[0m\u001b[0;34m\u001b[0m\u001b[0;34m\u001b[0m\u001b[0m\n\u001b[0;32m-> 1421\u001b[0;31m         \u001b[0;32mfor\u001b[0m \u001b[0msentence1\u001b[0m\u001b[0;34m,\u001b[0m \u001b[0msentence2\u001b[0m \u001b[0;32min\u001b[0m \u001b[0m_pair_iter\u001b[0m\u001b[0;34m(\u001b[0m\u001b[0mslices\u001b[0m\u001b[0;34m)\u001b[0m\u001b[0;34m:\u001b[0m\u001b[0;34m\u001b[0m\u001b[0;34m\u001b[0m\u001b[0m\n\u001b[0m\u001b[1;32m   1422\u001b[0m             \u001b[0msentence1\u001b[0m \u001b[0;34m=\u001b[0m \u001b[0mslice\u001b[0m\u001b[0;34m(\u001b[0m\u001b[0msentence1\u001b[0m\u001b[0;34m.\u001b[0m\u001b[0mstart\u001b[0m \u001b[0;34m+\u001b[0m \u001b[0mrealign\u001b[0m\u001b[0;34m,\u001b[0m \u001b[0msentence1\u001b[0m\u001b[0;34m.\u001b[0m\u001b[0mstop\u001b[0m\u001b[0;34m)\u001b[0m\u001b[0;34m\u001b[0m\u001b[0;34m\u001b[0m\u001b[0m\n\u001b[1;32m   1423\u001b[0m             \u001b[0;32mif\u001b[0m \u001b[0;32mnot\u001b[0m \u001b[0msentence2\u001b[0m\u001b[0;34m:\u001b[0m\u001b[0;34m\u001b[0m\u001b[0;34m\u001b[0m\u001b[0m\n",
            "\u001b[0;32m/usr/local/lib/python3.7/dist-packages/nltk/tokenize/punkt.py\u001b[0m in \u001b[0;36m_pair_iter\u001b[0;34m(iterator)\u001b[0m\n\u001b[1;32m    316\u001b[0m     \u001b[0miterator\u001b[0m \u001b[0;34m=\u001b[0m \u001b[0miter\u001b[0m\u001b[0;34m(\u001b[0m\u001b[0miterator\u001b[0m\u001b[0;34m)\u001b[0m\u001b[0;34m\u001b[0m\u001b[0;34m\u001b[0m\u001b[0m\n\u001b[1;32m    317\u001b[0m     \u001b[0;32mtry\u001b[0m\u001b[0;34m:\u001b[0m\u001b[0;34m\u001b[0m\u001b[0;34m\u001b[0m\u001b[0m\n\u001b[0;32m--> 318\u001b[0;31m         \u001b[0mprev\u001b[0m \u001b[0;34m=\u001b[0m \u001b[0mnext\u001b[0m\u001b[0;34m(\u001b[0m\u001b[0miterator\u001b[0m\u001b[0;34m)\u001b[0m\u001b[0;34m\u001b[0m\u001b[0;34m\u001b[0m\u001b[0m\n\u001b[0m\u001b[1;32m    319\u001b[0m     \u001b[0;32mexcept\u001b[0m \u001b[0mStopIteration\u001b[0m\u001b[0;34m:\u001b[0m\u001b[0;34m\u001b[0m\u001b[0;34m\u001b[0m\u001b[0m\n\u001b[1;32m    320\u001b[0m         \u001b[0;32mreturn\u001b[0m\u001b[0;34m\u001b[0m\u001b[0;34m\u001b[0m\u001b[0m\n",
            "\u001b[0;32m/usr/local/lib/python3.7/dist-packages/nltk/tokenize/punkt.py\u001b[0m in \u001b[0;36m_slices_from_text\u001b[0;34m(self, text)\u001b[0m\n\u001b[1;32m   1393\u001b[0m     \u001b[0;32mdef\u001b[0m \u001b[0m_slices_from_text\u001b[0m\u001b[0;34m(\u001b[0m\u001b[0mself\u001b[0m\u001b[0;34m,\u001b[0m \u001b[0mtext\u001b[0m\u001b[0;34m)\u001b[0m\u001b[0;34m:\u001b[0m\u001b[0;34m\u001b[0m\u001b[0;34m\u001b[0m\u001b[0m\n\u001b[1;32m   1394\u001b[0m         \u001b[0mlast_break\u001b[0m \u001b[0;34m=\u001b[0m \u001b[0;36m0\u001b[0m\u001b[0;34m\u001b[0m\u001b[0;34m\u001b[0m\u001b[0m\n\u001b[0;32m-> 1395\u001b[0;31m         \u001b[0;32mfor\u001b[0m \u001b[0mmatch\u001b[0m\u001b[0;34m,\u001b[0m \u001b[0mcontext\u001b[0m \u001b[0;32min\u001b[0m \u001b[0mself\u001b[0m\u001b[0;34m.\u001b[0m\u001b[0m_match_potential_end_contexts\u001b[0m\u001b[0;34m(\u001b[0m\u001b[0mtext\u001b[0m\u001b[0;34m)\u001b[0m\u001b[0;34m:\u001b[0m\u001b[0;34m\u001b[0m\u001b[0;34m\u001b[0m\u001b[0m\n\u001b[0m\u001b[1;32m   1396\u001b[0m             \u001b[0;32mif\u001b[0m \u001b[0mself\u001b[0m\u001b[0;34m.\u001b[0m\u001b[0mtext_contains_sentbreak\u001b[0m\u001b[0;34m(\u001b[0m\u001b[0mcontext\u001b[0m\u001b[0;34m)\u001b[0m\u001b[0;34m:\u001b[0m\u001b[0;34m\u001b[0m\u001b[0;34m\u001b[0m\u001b[0m\n\u001b[1;32m   1397\u001b[0m                 \u001b[0;32myield\u001b[0m \u001b[0mslice\u001b[0m\u001b[0;34m(\u001b[0m\u001b[0mlast_break\u001b[0m\u001b[0;34m,\u001b[0m \u001b[0mmatch\u001b[0m\u001b[0;34m.\u001b[0m\u001b[0mend\u001b[0m\u001b[0;34m(\u001b[0m\u001b[0;34m)\u001b[0m\u001b[0;34m)\u001b[0m\u001b[0;34m\u001b[0m\u001b[0;34m\u001b[0m\u001b[0m\n",
            "\u001b[0;32m/usr/local/lib/python3.7/dist-packages/nltk/tokenize/punkt.py\u001b[0m in \u001b[0;36m_match_potential_end_contexts\u001b[0;34m(self, text)\u001b[0m\n\u001b[1;32m   1373\u001b[0m         \u001b[0mbefore_words\u001b[0m \u001b[0;34m=\u001b[0m \u001b[0;34m{\u001b[0m\u001b[0;34m}\u001b[0m\u001b[0;34m\u001b[0m\u001b[0;34m\u001b[0m\u001b[0m\n\u001b[1;32m   1374\u001b[0m         \u001b[0mmatches\u001b[0m \u001b[0;34m=\u001b[0m \u001b[0;34m[\u001b[0m\u001b[0;34m]\u001b[0m\u001b[0;34m\u001b[0m\u001b[0;34m\u001b[0m\u001b[0m\n\u001b[0;32m-> 1375\u001b[0;31m         \u001b[0;32mfor\u001b[0m \u001b[0mmatch\u001b[0m \u001b[0;32min\u001b[0m \u001b[0mreversed\u001b[0m\u001b[0;34m(\u001b[0m\u001b[0mlist\u001b[0m\u001b[0;34m(\u001b[0m\u001b[0mself\u001b[0m\u001b[0;34m.\u001b[0m\u001b[0m_lang_vars\u001b[0m\u001b[0;34m.\u001b[0m\u001b[0mperiod_context_re\u001b[0m\u001b[0;34m(\u001b[0m\u001b[0;34m)\u001b[0m\u001b[0;34m.\u001b[0m\u001b[0mfinditer\u001b[0m\u001b[0;34m(\u001b[0m\u001b[0mtext\u001b[0m\u001b[0;34m)\u001b[0m\u001b[0;34m)\u001b[0m\u001b[0;34m)\u001b[0m\u001b[0;34m:\u001b[0m\u001b[0;34m\u001b[0m\u001b[0;34m\u001b[0m\u001b[0m\n\u001b[0m\u001b[1;32m   1376\u001b[0m             \u001b[0;31m# Ignore matches that have already been captured by matches to the right of this match\u001b[0m\u001b[0;34m\u001b[0m\u001b[0;34m\u001b[0m\u001b[0;34m\u001b[0m\u001b[0m\n\u001b[1;32m   1377\u001b[0m             \u001b[0;32mif\u001b[0m \u001b[0mmatches\u001b[0m \u001b[0;32mand\u001b[0m \u001b[0mmatch\u001b[0m\u001b[0;34m.\u001b[0m\u001b[0mend\u001b[0m\u001b[0;34m(\u001b[0m\u001b[0;34m)\u001b[0m \u001b[0;34m>\u001b[0m \u001b[0mbefore_start\u001b[0m\u001b[0;34m:\u001b[0m\u001b[0;34m\u001b[0m\u001b[0;34m\u001b[0m\u001b[0m\n",
            "\u001b[0;31mTypeError\u001b[0m: expected string or bytes-like object"
          ]
        }
      ],
      "source": [
        "texts = df['text'].tolist()\n",
        "tokens = list(map(len, map(nltk.word_tokenize, texts)))\n",
        "total = sum(tokens)"
      ]
    },
    {
      "cell_type": "code",
      "execution_count": null,
      "metadata": {
        "colab": {
          "base_uri": "https://localhost:8080/",
          "height": 169
        },
        "id": "t62bqzP5zPFp",
        "outputId": "e9146d2a-1c76-44fb-b73d-604dfd8e1a4a"
      },
      "outputs": [
        {
          "ename": "NameError",
          "evalue": "ignored",
          "output_type": "error",
          "traceback": [
            "\u001b[0;31m---------------------------------------------------------------------------\u001b[0m",
            "\u001b[0;31mNameError\u001b[0m                                 Traceback (most recent call last)",
            "\u001b[0;32m<ipython-input-1-fc67ca73a5e9>\u001b[0m in \u001b[0;36m<module>\u001b[0;34m\u001b[0m\n\u001b[0;32m----> 1\u001b[0;31m \u001b[0;34m[\u001b[0m\u001b[0mj\u001b[0m \u001b[0;32mfor\u001b[0m \u001b[0mi\u001b[0m \u001b[0;32min\u001b[0m \u001b[0mredVec\u001b[0m \u001b[0;32mfor\u001b[0m \u001b[0mj\u001b[0m \u001b[0;32min\u001b[0m \u001b[0mi\u001b[0m\u001b[0;34m]\u001b[0m\u001b[0;34m\u001b[0m\u001b[0;34m\u001b[0m\u001b[0m\n\u001b[0m",
            "\u001b[0;31mNameError\u001b[0m: name 'redVec' is not defined"
          ]
        }
      ],
      "source": [
        "[j for i in redVec for j in i]"
      ]
    },
    {
      "cell_type": "markdown",
      "metadata": {
        "id": "X4FXP5s5kQsF"
      },
      "source": [
        "# 3.3 : Embeddings "
      ]
    },
    {
      "cell_type": "code",
      "execution_count": null,
      "metadata": {
        "colab": {
          "base_uri": "https://localhost:8080/"
        },
        "id": "W2vdXddUfPzm",
        "outputId": "48503c3c-a032-488b-8b94-d2fe29ed2d1b"
      },
      "outputs": [
        {
          "name": "stderr",
          "output_type": "stream",
          "text": [
            "/usr/local/lib/python3.7/dist-packages/ipykernel_launcher.py:1: DeprecationWarning: Call to deprecated `wv` (Attribute will be removed in 4.0.0, use self instead).\n",
            "  \"\"\"Entry point for launching an IPython kernel.\n"
          ]
        }
      ],
      "source": [
        "google_embedding = list(model.wv.vocab)\n",
        "count_vect = CountVectorizer()\n",
        "X_train_counts = count_vect.fit_transform(google_embedding)\n",
        "X_train_counts.shape \n",
        "google = count_vect.vocabulary_\n"
      ]
    },
    {
      "cell_type": "code",
      "execution_count": null,
      "metadata": {
        "id": "6n76GLBDmmCC"
      },
      "outputs": [],
      "source": [
        "# transforms given text into frequency (count) of each word that occurs in the entire text\n",
        "from sklearn import svm\n",
        "from sklearn.feature_extraction.text import CountVectorizer\n",
        "count_vect = CountVectorizer()\n",
        "X_train_counts = count_vect.fit_transform(texts)\n",
        "X_train_counts.shape \n",
        "reddit = count_vect.vocabulary_"
      ]
    },
    {
      "cell_type": "markdown",
      "metadata": {
        "id": "8yGiUCdhuw4O"
      },
      "source": [
        "TEST"
      ]
    },
    {
      "cell_type": "code",
      "execution_count": null,
      "metadata": {
        "id": "Md3lcwCNvDbz"
      },
      "outputs": [],
      "source": []
    },
    {
      "cell_type": "code",
      "execution_count": null,
      "metadata": {
        "colab": {
          "base_uri": "https://localhost:8080/"
        },
        "id": "9ssFDdFgvDjo",
        "outputId": "4cb4f286-eca7-451c-d364-d846713ab1a4"
      },
      "outputs": [
        {
          "name": "stdout",
          "output_type": "stream",
          "text": [
            "Looking in indexes: https://pypi.org/simple, https://us-python.pkg.dev/colab-wheels/public/simple/\n",
            "Collecting transformers\n",
            "  Downloading transformers-4.23.1-py3-none-any.whl (5.3 MB)\n",
            "\u001b[K     |████████████████████████████████| 5.3 MB 5.1 MB/s \n",
            "\u001b[?25hRequirement already satisfied: pyyaml>=5.1 in /usr/local/lib/python3.7/dist-packages (from transformers) (6.0)\n",
            "Collecting huggingface-hub<1.0,>=0.10.0\n",
            "  Downloading huggingface_hub-0.10.1-py3-none-any.whl (163 kB)\n",
            "\u001b[K     |████████████████████████████████| 163 kB 55.7 MB/s \n",
            "\u001b[?25hRequirement already satisfied: regex!=2019.12.17 in /usr/local/lib/python3.7/dist-packages (from transformers) (2022.6.2)\n",
            "Requirement already satisfied: filelock in /usr/local/lib/python3.7/dist-packages (from transformers) (3.8.0)\n",
            "Collecting tokenizers!=0.11.3,<0.14,>=0.11.1\n",
            "  Downloading tokenizers-0.13.1-cp37-cp37m-manylinux_2_17_x86_64.manylinux2014_x86_64.whl (7.6 MB)\n",
            "\u001b[K     |████████████████████████████████| 7.6 MB 61.5 MB/s \n",
            "\u001b[?25hRequirement already satisfied: importlib-metadata in /usr/local/lib/python3.7/dist-packages (from transformers) (4.13.0)\n",
            "Requirement already satisfied: packaging>=20.0 in /usr/local/lib/python3.7/dist-packages (from transformers) (21.3)\n",
            "Requirement already satisfied: numpy>=1.17 in /usr/local/lib/python3.7/dist-packages (from transformers) (1.21.6)\n",
            "Requirement already satisfied: requests in /usr/local/lib/python3.7/dist-packages (from transformers) (2.23.0)\n",
            "Requirement already satisfied: tqdm>=4.27 in /usr/local/lib/python3.7/dist-packages (from transformers) (4.64.1)\n",
            "Requirement already satisfied: typing-extensions>=3.7.4.3 in /usr/local/lib/python3.7/dist-packages (from huggingface-hub<1.0,>=0.10.0->transformers) (4.1.1)\n",
            "Requirement already satisfied: pyparsing!=3.0.5,>=2.0.2 in /usr/local/lib/python3.7/dist-packages (from packaging>=20.0->transformers) (3.0.9)\n",
            "Requirement already satisfied: zipp>=0.5 in /usr/local/lib/python3.7/dist-packages (from importlib-metadata->transformers) (3.9.0)\n",
            "Requirement already satisfied: chardet<4,>=3.0.2 in /usr/local/lib/python3.7/dist-packages (from requests->transformers) (3.0.4)\n",
            "Requirement already satisfied: urllib3!=1.25.0,!=1.25.1,<1.26,>=1.21.1 in /usr/local/lib/python3.7/dist-packages (from requests->transformers) (1.24.3)\n",
            "Requirement already satisfied: certifi>=2017.4.17 in /usr/local/lib/python3.7/dist-packages (from requests->transformers) (2022.9.24)\n",
            "Requirement already satisfied: idna<3,>=2.5 in /usr/local/lib/python3.7/dist-packages (from requests->transformers) (2.10)\n",
            "Installing collected packages: tokenizers, huggingface-hub, transformers\n",
            "Successfully installed huggingface-hub-0.10.1 tokenizers-0.13.1 transformers-4.23.1\n"
          ]
        }
      ],
      "source": [
        "from typing import List, Dict, Tuple, Any, Callable\n",
        "import numpy as np\n",
        "import pandas as pd\n",
        "import itertools\n",
        "import torch\n",
        "!pip install transformers\n",
        "from transformers import AutoTokenizer, AutoModel\n",
        "# Global vars\n",
        "_verbose = 0\n",
        "_batch_size = 1\n",
        "\n",
        "# Helper func 1\n",
        "def get_word_idx(sent: str, word: str) -> int:\n",
        "    \"\"\"split sentences and add index to each word. Each word has its own index based on when it was added to the list first\n",
        "    Args:\n",
        "        sent (str): sentence in string\n",
        "        word (str): word in string\n",
        "    Returns:\n",
        "        int: output the index of where the word correspond to in each sentence input\n",
        "    \"\"\"\n",
        "    return sent.lower().split(\" \").index(word)\n",
        "\n",
        "\n",
        "# Helper func 2\n",
        "def get_hidden_states(sent, tokenizer, model, layers):\n",
        "    \"\"\"Push input IDs through model. Stack and sum `layers` (last four by default).\n",
        "       Select only those subword token outputs that belong to our word of interest\n",
        "       and average them.\n",
        "    Args:\n",
        "        sent (str): Input sentence\n",
        "        tokenizer : Tokenizer function\n",
        "        model: bert model\n",
        "        layers : last 4 model of model\n",
        "    Returns:\n",
        "        output: tensor torch\n",
        "    \"\"\"\n",
        "    # encode without adding [CLS] and [SEP] tokens\n",
        "    encoded = tokenizer.encode_plus(sent, return_tensors=\"pt\", add_special_tokens=False)\n",
        "\n",
        "    with torch.no_grad():\n",
        "        output = model(**encoded)\n",
        "\n",
        "    # Get all hidden states\n",
        "    states = output.hidden_states\n",
        "    # Stack and sum all requested layers\n",
        "    output = torch.stack([states[i] for i in layers]).sum(0).squeeze()\n",
        "    # Only select the tokens that constitute the requested word\n",
        "    return output\n",
        "\n",
        "\n",
        "# Helper func 3\n",
        "def chunking(max_len, sent):\n",
        "    \"\"\"because the embedding function is trained on dim 512, so we have to limit the size of the sentences using max_len so the final chunked sentences wont exceed length 512\n",
        "    Args:\n",
        "        max_len (int): maximum number of tokens for each chunk\n",
        "        sent (str): input sentence\n",
        "    Returns:\n",
        "        sent_chunk (List(str)): list of chunked sentences\n",
        "    \"\"\"\n",
        "    tokenized_text = sent.lower().split(\" \")\n",
        "    # using list comprehension\n",
        "    final = [\n",
        "        tokenized_text[i * max_len : (i + 1) * max_len]\n",
        "        for i in range((len(tokenized_text) + max_len - 1) // max_len)\n",
        "    ]\n",
        "\n",
        "    # join back to sentences for each of the chunks\n",
        "    sent_chunk = []\n",
        "    for item in final:\n",
        "        # make sure the len(items) > 1 or else some of the embeddings will appear as len 1 instead of 768.\n",
        "        assert len(item) > 1\n",
        "        sent_chunk.append(\" \".join(item))\n",
        "    return sent_chunk"
      ]
    },
    {
      "cell_type": "code",
      "execution_count": null,
      "metadata": {
        "id": "QfoTbVGNuwBp"
      },
      "outputs": [],
      "source": [
        "# core code for finding average word embedding per sentence\n",
        "def main_avg(sent: str, layers=None, chunk_size=300):\n",
        "    \"\"\"Gives the average word embedding per sentence\n",
        "\n",
        "    Args:\n",
        "        sent (str): The input sentence\n",
        "\n",
        "    Returns:\n",
        "        torch tensor: word embedding per sentence, dim = 768\n",
        "    \"\"\"\n",
        "    # change all standard form numbers to decimal\n",
        "    np.set_printoptions(formatter={\"float_kind\": \"{:f}\".format})\n",
        "\n",
        "    # Use last four layers by default\n",
        "    layers = [-4, -3, -2, -1] if layers is None else layers\n",
        "    global tokenizer\n",
        "    global model\n",
        "    \n",
        "\n",
        "    # chunking\n",
        "    chunked_tokens = chunking(chunk_size, sent)  # helper func 3\n",
        "\n",
        "    # initialise a outside chunk\n",
        "    word_embedding_avg_collective = []\n",
        "    # for each chunked token, we embed them separately\n",
        "    for item in chunked_tokens:\n",
        "        # adding tensors\n",
        "        word_embedding_torch = get_hidden_states(\n",
        "            item, tokenizer, model, layers\n",
        "        )  # helper fun 2\n",
        "\n",
        "        # convert torch tensor to numpy array\n",
        "        word_embedding_avg_np = word_embedding_torch.cpu().detach().numpy()\n",
        "        word_embedding_avg_chunks = np.mean(word_embedding_avg_np, axis=0)\n",
        "        word_embedding_avg_collective.append(word_embedding_avg_chunks)\n",
        "    word_embedding_avg = np.mean(word_embedding_avg_collective, axis=0)\n",
        "    assert len(word_embedding_avg) == 768\n",
        "    return word_embedding_avg\n"
      ]
    },
    {
      "cell_type": "code",
      "execution_count": null,
      "metadata": {
        "colab": {
          "base_uri": "https://localhost:8080/",
          "height": 407
        },
        "id": "0WzpYvD8xESV",
        "outputId": "eec47555-7b89-4714-e735-f21da5d91d0b"
      },
      "outputs": [
        {
          "ename": "AttributeError",
          "evalue": "ignored",
          "output_type": "error",
          "traceback": [
            "\u001b[0;31m---------------------------------------------------------------------------\u001b[0m",
            "\u001b[0;31mAttributeError\u001b[0m                            Traceback (most recent call last)",
            "\u001b[0;32m<ipython-input-117-e15abb2b1558>\u001b[0m in \u001b[0;36m<module>\u001b[0;34m\u001b[0m\n\u001b[1;32m      1\u001b[0m \u001b[0mtokenizer\u001b[0m \u001b[0;34m=\u001b[0m \u001b[0mredVec\u001b[0m\u001b[0;34m\u001b[0m\u001b[0;34m\u001b[0m\u001b[0m\n\u001b[1;32m      2\u001b[0m \u001b[0;34m\u001b[0m\u001b[0m\n\u001b[0;32m----> 3\u001b[0;31m \u001b[0mmain_avg\u001b[0m\u001b[0;34m(\u001b[0m\u001b[0;34m\"Suppose we have a sequence of 978 tokens, we can chunk them into 2 chunks because 978//512 = 1 (we take one chunk more than the floor division). For illustration, we assume that the embedding vector size of each word is 3.\"\u001b[0m\u001b[0;34m)\u001b[0m\u001b[0;34m\u001b[0m\u001b[0;34m\u001b[0m\u001b[0m\n\u001b[0m",
            "\u001b[0;32m<ipython-input-111-60fb834e196b>\u001b[0m in \u001b[0;36mmain_avg\u001b[0;34m(sent, layers, chunk_size)\u001b[0m\n\u001b[1;32m     27\u001b[0m         \u001b[0;31m# adding tensors\u001b[0m\u001b[0;34m\u001b[0m\u001b[0;34m\u001b[0m\u001b[0;34m\u001b[0m\u001b[0m\n\u001b[1;32m     28\u001b[0m         word_embedding_torch = get_hidden_states(\n\u001b[0;32m---> 29\u001b[0;31m             \u001b[0mitem\u001b[0m\u001b[0;34m,\u001b[0m \u001b[0mtokenizer\u001b[0m\u001b[0;34m,\u001b[0m \u001b[0mmodel\u001b[0m\u001b[0;34m,\u001b[0m \u001b[0mlayers\u001b[0m\u001b[0;34m\u001b[0m\u001b[0;34m\u001b[0m\u001b[0m\n\u001b[0m\u001b[1;32m     30\u001b[0m         )  # helper fun 2\n\u001b[1;32m     31\u001b[0m \u001b[0;34m\u001b[0m\u001b[0m\n",
            "\u001b[0;32m<ipython-input-102-4e6855a5a17c>\u001b[0m in \u001b[0;36mget_hidden_states\u001b[0;34m(sent, tokenizer, model, layers)\u001b[0m\n\u001b[1;32m     36\u001b[0m     \"\"\"\n\u001b[1;32m     37\u001b[0m     \u001b[0;31m# encode without adding [CLS] and [SEP] tokens\u001b[0m\u001b[0;34m\u001b[0m\u001b[0;34m\u001b[0m\u001b[0;34m\u001b[0m\u001b[0m\n\u001b[0;32m---> 38\u001b[0;31m     \u001b[0mencoded\u001b[0m \u001b[0;34m=\u001b[0m \u001b[0mtokenizer\u001b[0m\u001b[0;34m.\u001b[0m\u001b[0mencode_plus\u001b[0m\u001b[0;34m(\u001b[0m\u001b[0msent\u001b[0m\u001b[0;34m,\u001b[0m \u001b[0mreturn_tensors\u001b[0m\u001b[0;34m=\u001b[0m\u001b[0;34m\"pt\"\u001b[0m\u001b[0;34m,\u001b[0m \u001b[0madd_special_tokens\u001b[0m\u001b[0;34m=\u001b[0m\u001b[0;32mFalse\u001b[0m\u001b[0;34m)\u001b[0m\u001b[0;34m\u001b[0m\u001b[0;34m\u001b[0m\u001b[0m\n\u001b[0m\u001b[1;32m     39\u001b[0m \u001b[0;34m\u001b[0m\u001b[0m\n\u001b[1;32m     40\u001b[0m     \u001b[0;32mwith\u001b[0m \u001b[0mtorch\u001b[0m\u001b[0;34m.\u001b[0m\u001b[0mno_grad\u001b[0m\u001b[0;34m(\u001b[0m\u001b[0;34m)\u001b[0m\u001b[0;34m:\u001b[0m\u001b[0;34m\u001b[0m\u001b[0;34m\u001b[0m\u001b[0m\n",
            "\u001b[0;31mAttributeError\u001b[0m: 'list' object has no attribute 'encode_plus'"
          ]
        }
      ],
      "source": [
        "tokenizer = redVec\n",
        "\n",
        "main_avg(\"Suppose we have a sequence of 978 tokens, we can chunk them into 2 chunks because 978//512 = 1 (we take one chunk more than the floor division). For illustration, we assume that the embedding vector size of each word is 3.\")"
      ]
    },
    {
      "cell_type": "markdown",
      "metadata": {
        "id": "Hhnve_DAth29"
      },
      "source": [
        "# 3.4 "
      ]
    },
    {
      "cell_type": "code",
      "execution_count": null,
      "metadata": {
        "colab": {
          "base_uri": "https://localhost:8080/"
        },
        "id": "EOmK9Kw5ruyN",
        "outputId": "9250a7c0-5256-40d3-fc9d-1e0345364c43"
      },
      "outputs": [
        {
          "data": {
            "text/plain": [
              "0.010045311960662011"
            ]
          },
          "execution_count": 98,
          "metadata": {},
          "output_type": "execute_result"
        }
      ],
      "source": [
        "hits = len(set(google.keys()).intersection(reddit.keys()))\n",
        "overall = hits/total\n",
        "overall"
      ]
    },
    {
      "cell_type": "markdown",
      "metadata": {
        "id": "Te7W3PXf4A43"
      },
      "source": [
        "# 3.5"
      ]
    },
    {
      "cell_type": "code",
      "execution_count": null,
      "metadata": {
        "id": "mRex_FYw4Eg9"
      },
      "outputs": [],
      "source": [
        "MLP = MLPClassifier(max_iter=10)\n",
        "MLP.fit(X_train, y_train) # not sure what to put as X and Y values here \n",
        "mlp_predict = MLP.predict(X_test)"
      ]
    },
    {
      "cell_type": "markdown",
      "metadata": {
        "id": "iOC94TC16KXY"
      },
      "source": [
        "# 3.6\n"
      ]
    },
    {
      "cell_type": "code",
      "execution_count": null,
      "metadata": {
        "id": "mGimgAjM6NDX"
      },
      "outputs": [],
      "source": [
        "from sklearn.neural_network import MLPClassifier\n",
        "mlp = MLPClassifier(hidden_layer_sizes = (3,2), learning_rate = 0.01, activation ='relu')\n",
        "mlp.fit(redVec, model) #not sure if this is the proper inputs"
      ]
    },
    {
      "cell_type": "code",
      "execution_count": null,
      "metadata": {
        "id": "b3af2SQSgXs7"
      },
      "outputs": [],
      "source": [
        "from sklearn.semi_supervised.tests.test_self_training import X_test\n",
        "pred_mlp = mlp.predict(X_test)"
      ]
    }
  ],
  "metadata": {
    "colab": {
      "collapsed_sections": [],
      "provenance": [],
      "toc_visible": true,
      "include_colab_link": true
    },
    "kernelspec": {
      "display_name": "Python 3",
      "name": "python3"
    },
    "language_info": {
      "name": "python"
    }
  },
  "nbformat": 4,
  "nbformat_minor": 0
}